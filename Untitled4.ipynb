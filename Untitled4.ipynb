{
  "cells": [
    {
      "cell_type": "markdown",
      "metadata": {
        "id": "view-in-github",
        "colab_type": "text"
      },
      "source": [
        "<a href=\"https://colab.research.google.com/github/Mann2406/Work/blob/work/Untitled4.ipynb\" target=\"_parent\"><img src=\"https://colab.research.google.com/assets/colab-badge.svg\" alt=\"Open In Colab\"/></a>"
      ]
    },
    {
      "cell_type": "code",
      "execution_count": null,
      "metadata": {
        "id": "wYJq-4UvYNV2"
      },
      "outputs": [],
      "source": [
        "import numpy as np\n",
        "import pandas as pd"
      ]
    },
    {
      "cell_type": "code",
      "execution_count": null,
      "metadata": {
        "colab": {
          "base_uri": "https://localhost:8080/",
          "height": 475
        },
        "id": "AF5Z77SgZU2e",
        "outputId": "bc47956f-371a-4e58-ad23-5f0ba923a346"
      },
      "outputs": [
        {
          "output_type": "execute_result",
          "data": {
            "text/plain": [
              "     2022 Passenger Rank   Airport Code   \\\n",
              "0                       1            LAX   \n",
              "1                       2            ORD   \n",
              "2                       3            DEN   \n",
              "3                       4            ATL   \n",
              "4                       5            EWR   \n",
              "..                    ...            ...   \n",
              "433                   433            SDP   \n",
              "434                   435            JBR   \n",
              "435                   435            HNH   \n",
              "436                   435            HNS   \n",
              "437                                  NaN   \n",
              "\n",
              "                                Airport Name       City Name   State Name   \\\n",
              "0                   Los Angeles International     Los Angeles           CA   \n",
              "1                Chicago O'Hare International  Chicago-O'Hare           IL   \n",
              "2                        Denver International          Denver           CO   \n",
              "3    Hartsfield-Jackson Atlanta International         Atlanta           GA   \n",
              "4                Newark Liberty International          Newark           NJ   \n",
              "..                                        ...             ...          ...   \n",
              "433                                Sand Point       Sandpoint           AK   \n",
              "434                       Jonesboro Municipal       Jonesboro           AR   \n",
              "435                            Hoonah Airport          Hoonah           AK   \n",
              "436                            Haines Airport          Haines           AK   \n",
              "437                                       NaN             NaN          NaN   \n",
              "\n",
              "      Average Fare ($)   \\\n",
              "0                424.87   \n",
              "1                390.64   \n",
              "2                360.53   \n",
              "3                397.90   \n",
              "4                411.70   \n",
              "..                  ...   \n",
              "433             1029.00   \n",
              "434              356.33   \n",
              "435              704.00   \n",
              "436              702.50   \n",
              "437                 NaN   \n",
              "\n",
              "      Inflation Adjusted Average Fare ($) (Base Quarter:  Q2-2023)   \\\n",
              "0                                               424.87                \n",
              "1                                               390.64                \n",
              "2                                               360.53                \n",
              "3                                               397.90                \n",
              "4                                               411.70                \n",
              "..                                                 ...                \n",
              "433                                            1029.00                \n",
              "434                                             356.33                \n",
              "435                                             704.00                \n",
              "436                                             702.50                \n",
              "437                                                NaN                \n",
              "\n",
              "     2022 Passengers (10% sample)   \n",
              "0                        12,04,082  \n",
              "1                         9,98,248  \n",
              "2                         9,90,155  \n",
              "3                         9,51,353  \n",
              "4                         8,44,385  \n",
              "..                             ...  \n",
              "433                              4  \n",
              "434                              1  \n",
              "435                              1  \n",
              "436                              1  \n",
              "437                            NaN  \n",
              "\n",
              "[438 rows x 8 columns]"
            ],
            "text/html": [
              "\n",
              "  <div id=\"df-e9142042-5825-4ef3-bde4-a19499a716fd\" class=\"colab-df-container\">\n",
              "    <div>\n",
              "<style scoped>\n",
              "    .dataframe tbody tr th:only-of-type {\n",
              "        vertical-align: middle;\n",
              "    }\n",
              "\n",
              "    .dataframe tbody tr th {\n",
              "        vertical-align: top;\n",
              "    }\n",
              "\n",
              "    .dataframe thead th {\n",
              "        text-align: right;\n",
              "    }\n",
              "</style>\n",
              "<table border=\"1\" class=\"dataframe\">\n",
              "  <thead>\n",
              "    <tr style=\"text-align: right;\">\n",
              "      <th></th>\n",
              "      <th>2022 Passenger Rank</th>\n",
              "      <th>Airport Code</th>\n",
              "      <th>Airport Name</th>\n",
              "      <th>City Name</th>\n",
              "      <th>State Name</th>\n",
              "      <th>Average Fare ($)</th>\n",
              "      <th>Inflation Adjusted Average Fare ($) (Base Quarter:  Q2-2023)</th>\n",
              "      <th>2022 Passengers (10% sample)</th>\n",
              "    </tr>\n",
              "  </thead>\n",
              "  <tbody>\n",
              "    <tr>\n",
              "      <th>0</th>\n",
              "      <td>1</td>\n",
              "      <td>LAX</td>\n",
              "      <td>Los Angeles International</td>\n",
              "      <td>Los Angeles</td>\n",
              "      <td>CA</td>\n",
              "      <td>424.87</td>\n",
              "      <td>424.87</td>\n",
              "      <td>12,04,082</td>\n",
              "    </tr>\n",
              "    <tr>\n",
              "      <th>1</th>\n",
              "      <td>2</td>\n",
              "      <td>ORD</td>\n",
              "      <td>Chicago O'Hare International</td>\n",
              "      <td>Chicago-O'Hare</td>\n",
              "      <td>IL</td>\n",
              "      <td>390.64</td>\n",
              "      <td>390.64</td>\n",
              "      <td>9,98,248</td>\n",
              "    </tr>\n",
              "    <tr>\n",
              "      <th>2</th>\n",
              "      <td>3</td>\n",
              "      <td>DEN</td>\n",
              "      <td>Denver International</td>\n",
              "      <td>Denver</td>\n",
              "      <td>CO</td>\n",
              "      <td>360.53</td>\n",
              "      <td>360.53</td>\n",
              "      <td>9,90,155</td>\n",
              "    </tr>\n",
              "    <tr>\n",
              "      <th>3</th>\n",
              "      <td>4</td>\n",
              "      <td>ATL</td>\n",
              "      <td>Hartsfield-Jackson Atlanta International</td>\n",
              "      <td>Atlanta</td>\n",
              "      <td>GA</td>\n",
              "      <td>397.90</td>\n",
              "      <td>397.90</td>\n",
              "      <td>9,51,353</td>\n",
              "    </tr>\n",
              "    <tr>\n",
              "      <th>4</th>\n",
              "      <td>5</td>\n",
              "      <td>EWR</td>\n",
              "      <td>Newark Liberty International</td>\n",
              "      <td>Newark</td>\n",
              "      <td>NJ</td>\n",
              "      <td>411.70</td>\n",
              "      <td>411.70</td>\n",
              "      <td>8,44,385</td>\n",
              "    </tr>\n",
              "    <tr>\n",
              "      <th>...</th>\n",
              "      <td>...</td>\n",
              "      <td>...</td>\n",
              "      <td>...</td>\n",
              "      <td>...</td>\n",
              "      <td>...</td>\n",
              "      <td>...</td>\n",
              "      <td>...</td>\n",
              "      <td>...</td>\n",
              "    </tr>\n",
              "    <tr>\n",
              "      <th>433</th>\n",
              "      <td>433</td>\n",
              "      <td>SDP</td>\n",
              "      <td>Sand Point</td>\n",
              "      <td>Sandpoint</td>\n",
              "      <td>AK</td>\n",
              "      <td>1029.00</td>\n",
              "      <td>1029.00</td>\n",
              "      <td>4</td>\n",
              "    </tr>\n",
              "    <tr>\n",
              "      <th>434</th>\n",
              "      <td>435</td>\n",
              "      <td>JBR</td>\n",
              "      <td>Jonesboro Municipal</td>\n",
              "      <td>Jonesboro</td>\n",
              "      <td>AR</td>\n",
              "      <td>356.33</td>\n",
              "      <td>356.33</td>\n",
              "      <td>1</td>\n",
              "    </tr>\n",
              "    <tr>\n",
              "      <th>435</th>\n",
              "      <td>435</td>\n",
              "      <td>HNH</td>\n",
              "      <td>Hoonah Airport</td>\n",
              "      <td>Hoonah</td>\n",
              "      <td>AK</td>\n",
              "      <td>704.00</td>\n",
              "      <td>704.00</td>\n",
              "      <td>1</td>\n",
              "    </tr>\n",
              "    <tr>\n",
              "      <th>436</th>\n",
              "      <td>435</td>\n",
              "      <td>HNS</td>\n",
              "      <td>Haines Airport</td>\n",
              "      <td>Haines</td>\n",
              "      <td>AK</td>\n",
              "      <td>702.50</td>\n",
              "      <td>702.50</td>\n",
              "      <td>1</td>\n",
              "    </tr>\n",
              "    <tr>\n",
              "      <th>437</th>\n",
              "      <td></td>\n",
              "      <td>NaN</td>\n",
              "      <td>NaN</td>\n",
              "      <td>NaN</td>\n",
              "      <td>NaN</td>\n",
              "      <td>NaN</td>\n",
              "      <td>NaN</td>\n",
              "      <td>NaN</td>\n",
              "    </tr>\n",
              "  </tbody>\n",
              "</table>\n",
              "<p>438 rows × 8 columns</p>\n",
              "</div>\n",
              "    <div class=\"colab-df-buttons\">\n",
              "\n",
              "  <div class=\"colab-df-container\">\n",
              "    <button class=\"colab-df-convert\" onclick=\"convertToInteractive('df-e9142042-5825-4ef3-bde4-a19499a716fd')\"\n",
              "            title=\"Convert this dataframe to an interactive table.\"\n",
              "            style=\"display:none;\">\n",
              "\n",
              "  <svg xmlns=\"http://www.w3.org/2000/svg\" height=\"24px\" viewBox=\"0 -960 960 960\">\n",
              "    <path d=\"M120-120v-720h720v720H120Zm60-500h600v-160H180v160Zm220 220h160v-160H400v160Zm0 220h160v-160H400v160ZM180-400h160v-160H180v160Zm440 0h160v-160H620v160ZM180-180h160v-160H180v160Zm440 0h160v-160H620v160Z\"/>\n",
              "  </svg>\n",
              "    </button>\n",
              "\n",
              "  <style>\n",
              "    .colab-df-container {\n",
              "      display:flex;\n",
              "      gap: 12px;\n",
              "    }\n",
              "\n",
              "    .colab-df-convert {\n",
              "      background-color: #E8F0FE;\n",
              "      border: none;\n",
              "      border-radius: 50%;\n",
              "      cursor: pointer;\n",
              "      display: none;\n",
              "      fill: #1967D2;\n",
              "      height: 32px;\n",
              "      padding: 0 0 0 0;\n",
              "      width: 32px;\n",
              "    }\n",
              "\n",
              "    .colab-df-convert:hover {\n",
              "      background-color: #E2EBFA;\n",
              "      box-shadow: 0px 1px 2px rgba(60, 64, 67, 0.3), 0px 1px 3px 1px rgba(60, 64, 67, 0.15);\n",
              "      fill: #174EA6;\n",
              "    }\n",
              "\n",
              "    .colab-df-buttons div {\n",
              "      margin-bottom: 4px;\n",
              "    }\n",
              "\n",
              "    [theme=dark] .colab-df-convert {\n",
              "      background-color: #3B4455;\n",
              "      fill: #D2E3FC;\n",
              "    }\n",
              "\n",
              "    [theme=dark] .colab-df-convert:hover {\n",
              "      background-color: #434B5C;\n",
              "      box-shadow: 0px 1px 3px 1px rgba(0, 0, 0, 0.15);\n",
              "      filter: drop-shadow(0px 1px 2px rgba(0, 0, 0, 0.3));\n",
              "      fill: #FFFFFF;\n",
              "    }\n",
              "  </style>\n",
              "\n",
              "    <script>\n",
              "      const buttonEl =\n",
              "        document.querySelector('#df-e9142042-5825-4ef3-bde4-a19499a716fd button.colab-df-convert');\n",
              "      buttonEl.style.display =\n",
              "        google.colab.kernel.accessAllowed ? 'block' : 'none';\n",
              "\n",
              "      async function convertToInteractive(key) {\n",
              "        const element = document.querySelector('#df-e9142042-5825-4ef3-bde4-a19499a716fd');\n",
              "        const dataTable =\n",
              "          await google.colab.kernel.invokeFunction('convertToInteractive',\n",
              "                                                    [key], {});\n",
              "        if (!dataTable) return;\n",
              "\n",
              "        const docLinkHtml = 'Like what you see? Visit the ' +\n",
              "          '<a target=\"_blank\" href=https://colab.research.google.com/notebooks/data_table.ipynb>data table notebook</a>'\n",
              "          + ' to learn more about interactive tables.';\n",
              "        element.innerHTML = '';\n",
              "        dataTable['output_type'] = 'display_data';\n",
              "        await google.colab.output.renderOutput(dataTable, element);\n",
              "        const docLink = document.createElement('div');\n",
              "        docLink.innerHTML = docLinkHtml;\n",
              "        element.appendChild(docLink);\n",
              "      }\n",
              "    </script>\n",
              "  </div>\n",
              "\n",
              "\n",
              "<div id=\"df-a396b34b-90c2-4ebd-ad14-20f31d93e8f3\">\n",
              "  <button class=\"colab-df-quickchart\" onclick=\"quickchart('df-a396b34b-90c2-4ebd-ad14-20f31d93e8f3')\"\n",
              "            title=\"Suggest charts\"\n",
              "            style=\"display:none;\">\n",
              "\n",
              "<svg xmlns=\"http://www.w3.org/2000/svg\" height=\"24px\"viewBox=\"0 0 24 24\"\n",
              "     width=\"24px\">\n",
              "    <g>\n",
              "        <path d=\"M19 3H5c-1.1 0-2 .9-2 2v14c0 1.1.9 2 2 2h14c1.1 0 2-.9 2-2V5c0-1.1-.9-2-2-2zM9 17H7v-7h2v7zm4 0h-2V7h2v10zm4 0h-2v-4h2v4z\"/>\n",
              "    </g>\n",
              "</svg>\n",
              "  </button>\n",
              "\n",
              "<style>\n",
              "  .colab-df-quickchart {\n",
              "      --bg-color: #E8F0FE;\n",
              "      --fill-color: #1967D2;\n",
              "      --hover-bg-color: #E2EBFA;\n",
              "      --hover-fill-color: #174EA6;\n",
              "      --disabled-fill-color: #AAA;\n",
              "      --disabled-bg-color: #DDD;\n",
              "  }\n",
              "\n",
              "  [theme=dark] .colab-df-quickchart {\n",
              "      --bg-color: #3B4455;\n",
              "      --fill-color: #D2E3FC;\n",
              "      --hover-bg-color: #434B5C;\n",
              "      --hover-fill-color: #FFFFFF;\n",
              "      --disabled-bg-color: #3B4455;\n",
              "      --disabled-fill-color: #666;\n",
              "  }\n",
              "\n",
              "  .colab-df-quickchart {\n",
              "    background-color: var(--bg-color);\n",
              "    border: none;\n",
              "    border-radius: 50%;\n",
              "    cursor: pointer;\n",
              "    display: none;\n",
              "    fill: var(--fill-color);\n",
              "    height: 32px;\n",
              "    padding: 0;\n",
              "    width: 32px;\n",
              "  }\n",
              "\n",
              "  .colab-df-quickchart:hover {\n",
              "    background-color: var(--hover-bg-color);\n",
              "    box-shadow: 0 1px 2px rgba(60, 64, 67, 0.3), 0 1px 3px 1px rgba(60, 64, 67, 0.15);\n",
              "    fill: var(--button-hover-fill-color);\n",
              "  }\n",
              "\n",
              "  .colab-df-quickchart-complete:disabled,\n",
              "  .colab-df-quickchart-complete:disabled:hover {\n",
              "    background-color: var(--disabled-bg-color);\n",
              "    fill: var(--disabled-fill-color);\n",
              "    box-shadow: none;\n",
              "  }\n",
              "\n",
              "  .colab-df-spinner {\n",
              "    border: 2px solid var(--fill-color);\n",
              "    border-color: transparent;\n",
              "    border-bottom-color: var(--fill-color);\n",
              "    animation:\n",
              "      spin 1s steps(1) infinite;\n",
              "  }\n",
              "\n",
              "  @keyframes spin {\n",
              "    0% {\n",
              "      border-color: transparent;\n",
              "      border-bottom-color: var(--fill-color);\n",
              "      border-left-color: var(--fill-color);\n",
              "    }\n",
              "    20% {\n",
              "      border-color: transparent;\n",
              "      border-left-color: var(--fill-color);\n",
              "      border-top-color: var(--fill-color);\n",
              "    }\n",
              "    30% {\n",
              "      border-color: transparent;\n",
              "      border-left-color: var(--fill-color);\n",
              "      border-top-color: var(--fill-color);\n",
              "      border-right-color: var(--fill-color);\n",
              "    }\n",
              "    40% {\n",
              "      border-color: transparent;\n",
              "      border-right-color: var(--fill-color);\n",
              "      border-top-color: var(--fill-color);\n",
              "    }\n",
              "    60% {\n",
              "      border-color: transparent;\n",
              "      border-right-color: var(--fill-color);\n",
              "    }\n",
              "    80% {\n",
              "      border-color: transparent;\n",
              "      border-right-color: var(--fill-color);\n",
              "      border-bottom-color: var(--fill-color);\n",
              "    }\n",
              "    90% {\n",
              "      border-color: transparent;\n",
              "      border-bottom-color: var(--fill-color);\n",
              "    }\n",
              "  }\n",
              "</style>\n",
              "\n",
              "  <script>\n",
              "    async function quickchart(key) {\n",
              "      const quickchartButtonEl =\n",
              "        document.querySelector('#' + key + ' button');\n",
              "      quickchartButtonEl.disabled = true;  // To prevent multiple clicks.\n",
              "      quickchartButtonEl.classList.add('colab-df-spinner');\n",
              "      try {\n",
              "        const charts = await google.colab.kernel.invokeFunction(\n",
              "            'suggestCharts', [key], {});\n",
              "      } catch (error) {\n",
              "        console.error('Error during call to suggestCharts:', error);\n",
              "      }\n",
              "      quickchartButtonEl.classList.remove('colab-df-spinner');\n",
              "      quickchartButtonEl.classList.add('colab-df-quickchart-complete');\n",
              "    }\n",
              "    (() => {\n",
              "      let quickchartButtonEl =\n",
              "        document.querySelector('#df-a396b34b-90c2-4ebd-ad14-20f31d93e8f3 button');\n",
              "      quickchartButtonEl.style.display =\n",
              "        google.colab.kernel.accessAllowed ? 'block' : 'none';\n",
              "    })();\n",
              "  </script>\n",
              "</div>\n",
              "    </div>\n",
              "  </div>\n"
            ]
          },
          "metadata": {},
          "execution_count": 4
        }
      ],
      "source": [
        "df = pd.read_csv(\"/content/AverageFare_Q2_2023.csv\")\n",
        "df"
      ]
    },
    {
      "cell_type": "code",
      "execution_count": null,
      "metadata": {
        "colab": {
          "base_uri": "https://localhost:8080/"
        },
        "id": "sRVtWZ8Fbpf1",
        "outputId": "d2121b10-ee1b-4b84-c4d3-d6afa001062d"
      },
      "outputs": [
        {
          "output_type": "execute_result",
          "data": {
            "text/plain": [
              " 2022 Passenger Rank                                              0\n",
              " Airport Code                                                     1\n",
              " Airport Name                                                     1\n",
              " City Name                                                        1\n",
              " State Name                                                       1\n",
              " Average Fare ($)                                                 1\n",
              " Inflation Adjusted Average Fare ($) (Base Quarter:  Q2-2023)     1\n",
              " 2022 Passengers (10% sample)                                     1\n",
              "dtype: int64"
            ]
          },
          "metadata": {},
          "execution_count": 5
        }
      ],
      "source": [
        "df.isnull().sum()"
      ]
    },
    {
      "cell_type": "code",
      "execution_count": null,
      "metadata": {
        "colab": {
          "base_uri": "https://localhost:8080/"
        },
        "id": "wtsnPpi6Q04H",
        "outputId": "53bb8634-cb64-4d1f-aef3-1f393b8aa1dc"
      },
      "outputs": [
        {
          "output_type": "execute_result",
          "data": {
            "text/plain": [
              "0      0\n",
              "1      0\n",
              "2      0\n",
              "3      0\n",
              "4      0\n",
              "      ..\n",
              "433    0\n",
              "434    0\n",
              "435    0\n",
              "436    0\n",
              "437    7\n",
              "Length: 438, dtype: int64"
            ]
          },
          "metadata": {},
          "execution_count": 6
        }
      ],
      "source": [
        "df.isnull().sum(axis = 1)"
      ]
    },
    {
      "cell_type": "code",
      "execution_count": null,
      "metadata": {
        "id": "8NOaEG0TRHWs"
      },
      "outputs": [],
      "source": [
        "from sklearn.impute import SimpleImputer\n",
        "\n",
        "categorical_columns = df.select_dtypes(include=['object']).columns\n",
        "for col in categorical_columns:\n",
        "    mode_value = df[col].mode()[0]\n",
        "    df[col].fillna(mode_value, inplace=True)"
      ]
    },
    {
      "cell_type": "code",
      "execution_count": null,
      "metadata": {
        "colab": {
          "base_uri": "https://localhost:8080/"
        },
        "id": "sMIpm9kBb7xV",
        "outputId": "c54ad2ca-79ad-4fc3-f9b5-a9e724d52891"
      },
      "outputs": [
        {
          "output_type": "stream",
          "name": "stdout",
          "text": [
            "<class 'pandas.core.frame.DataFrame'>\n",
            "RangeIndex: 438 entries, 0 to 437\n",
            "Data columns (total 8 columns):\n",
            " #   Column                                                          Non-Null Count  Dtype  \n",
            "---  ------                                                          --------------  -----  \n",
            " 0    2022 Passenger Rank                                            438 non-null    object \n",
            " 1    Airport Code                                                   438 non-null    object \n",
            " 2    Airport Name                                                   438 non-null    object \n",
            " 3    City Name                                                      438 non-null    object \n",
            " 4    State Name                                                     438 non-null    object \n",
            " 5    Average Fare ($)                                               437 non-null    float64\n",
            " 6    Inflation Adjusted Average Fare ($) (Base Quarter:  Q2-2023)   437 non-null    float64\n",
            " 7    2022 Passengers (10% sample)                                   438 non-null    object \n",
            "dtypes: float64(2), object(6)\n",
            "memory usage: 27.5+ KB\n"
          ]
        }
      ],
      "source": [
        "df.info()"
      ]
    },
    {
      "cell_type": "code",
      "source": [
        "from sklearn.impute import SimpleImputer\n",
        "\n",
        "numerical_columns = [' Average Fare ($) ', ' Inflation Adjusted Average Fare ($) (Base Quarter:  Q2-2023) ']\n",
        "imputer = SimpleImputer(strategy = 'mean')\n",
        "\n",
        "for col in numerical_columns:\n",
        "    df[col] = imputer.fit_transform(df[[col]])"
      ],
      "metadata": {
        "id": "38iPcJqHsIUt"
      },
      "execution_count": null,
      "outputs": []
    },
    {
      "cell_type": "code",
      "source": [
        "df.info()"
      ],
      "metadata": {
        "colab": {
          "base_uri": "https://localhost:8080/"
        },
        "id": "APSvplDusZOV",
        "outputId": "1c5f233e-ab24-4069-fbe2-b8d8e1eb4f79"
      },
      "execution_count": null,
      "outputs": [
        {
          "output_type": "stream",
          "name": "stdout",
          "text": [
            "<class 'pandas.core.frame.DataFrame'>\n",
            "RangeIndex: 438 entries, 0 to 437\n",
            "Data columns (total 8 columns):\n",
            " #   Column                                                          Non-Null Count  Dtype  \n",
            "---  ------                                                          --------------  -----  \n",
            " 0    2022 Passenger Rank                                            438 non-null    object \n",
            " 1    Airport Code                                                   438 non-null    object \n",
            " 2    Airport Name                                                   438 non-null    object \n",
            " 3    City Name                                                      438 non-null    object \n",
            " 4    State Name                                                     438 non-null    object \n",
            " 5    Average Fare ($)                                               438 non-null    float64\n",
            " 6    Inflation Adjusted Average Fare ($) (Base Quarter:  Q2-2023)   438 non-null    float64\n",
            " 7    2022 Passengers (10% sample)                                   438 non-null    object \n",
            "dtypes: float64(2), object(6)\n",
            "memory usage: 27.5+ KB\n"
          ]
        }
      ]
    },
    {
      "cell_type": "code",
      "execution_count": null,
      "metadata": {
        "colab": {
          "base_uri": "https://localhost:8080/"
        },
        "id": "Ryj-WyjPnlzB",
        "outputId": "dec8cc87-62e1-4282-e7ac-1f1799814ccc"
      },
      "outputs": [
        {
          "output_type": "execute_result",
          "data": {
            "text/plain": [
              " 2022 Passenger Rank                                              0\n",
              " Airport Code                                                     0\n",
              " Airport Name                                                     0\n",
              " City Name                                                        0\n",
              " State Name                                                       0\n",
              " Average Fare ($)                                                 0\n",
              " Inflation Adjusted Average Fare ($) (Base Quarter:  Q2-2023)     0\n",
              " 2022 Passengers (10% sample)                                     0\n",
              "dtype: int64"
            ]
          },
          "metadata": {},
          "execution_count": 11
        }
      ],
      "source": [
        "df.isnull().sum()"
      ]
    },
    {
      "cell_type": "code",
      "execution_count": null,
      "metadata": {
        "colab": {
          "base_uri": "https://localhost:8080/"
        },
        "id": "zB1KiGv3XYez",
        "outputId": "21b274e2-e58b-470a-80e5-6252e477e4c6"
      },
      "outputs": [
        {
          "output_type": "execute_result",
          "data": {
            "text/plain": [
              "Index([' 2022 Passenger Rank ', ' Airport Code ', ' Airport Name ',\n",
              "       ' City Name ', ' State Name ', ' Average Fare ($) ',\n",
              "       ' Inflation Adjusted Average Fare ($) (Base Quarter:  Q2-2023) ',\n",
              "       ' 2022 Passengers (10% sample) '],\n",
              "      dtype='object')"
            ]
          },
          "metadata": {},
          "execution_count": 12
        }
      ],
      "source": [
        "df.columns"
      ]
    },
    {
      "cell_type": "code",
      "execution_count": null,
      "metadata": {
        "colab": {
          "base_uri": "https://localhost:8080/"
        },
        "id": "OZ4_xeVzR9hs",
        "outputId": "fa038e8a-6633-4bca-a820-07644caa0925"
      },
      "outputs": [
        {
          "output_type": "execute_result",
          "data": {
            "text/plain": [
              "(438, 8)"
            ]
          },
          "metadata": {},
          "execution_count": 13
        }
      ],
      "source": [
        "df.shape"
      ]
    },
    {
      "cell_type": "code",
      "source": [
        "from sklearn.preprocessing import LabelEncoder\n",
        "\n",
        "\n",
        "label_encoder = LabelEncoder()\n",
        "\n",
        "categorical_columns = df.select_dtypes(include=['object']).columns\n",
        "for col in categorical_columns:\n",
        "    df[col] = label_encoder.fit_transform(df[col])"
      ],
      "metadata": {
        "id": "p-Pf8qBCsi0p"
      },
      "execution_count": null,
      "outputs": []
    },
    {
      "cell_type": "code",
      "source": [
        "df.info()"
      ],
      "metadata": {
        "colab": {
          "base_uri": "https://localhost:8080/"
        },
        "id": "0Ph-UPzQwnXH",
        "outputId": "985cdf11-2c1f-4029-d63f-fa7069833624"
      },
      "execution_count": null,
      "outputs": [
        {
          "output_type": "stream",
          "name": "stdout",
          "text": [
            "<class 'pandas.core.frame.DataFrame'>\n",
            "RangeIndex: 438 entries, 0 to 437\n",
            "Data columns (total 8 columns):\n",
            " #   Column                                                          Non-Null Count  Dtype  \n",
            "---  ------                                                          --------------  -----  \n",
            " 0    2022 Passenger Rank                                            438 non-null    int64  \n",
            " 1    Airport Code                                                   438 non-null    int64  \n",
            " 2    Airport Name                                                   438 non-null    int64  \n",
            " 3    City Name                                                      438 non-null    int64  \n",
            " 4    State Name                                                     438 non-null    int64  \n",
            " 5    Average Fare ($)                                               438 non-null    float64\n",
            " 6    Inflation Adjusted Average Fare ($) (Base Quarter:  Q2-2023)   438 non-null    float64\n",
            " 7    2022 Passengers (10% sample)                                   438 non-null    int64  \n",
            "dtypes: float64(2), int64(6)\n",
            "memory usage: 27.5 KB\n"
          ]
        }
      ]
    },
    {
      "cell_type": "code",
      "source": [
        "df.columns"
      ],
      "metadata": {
        "colab": {
          "base_uri": "https://localhost:8080/"
        },
        "id": "9VOkvwdNvqrn",
        "outputId": "f6fc1578-930d-4f4f-e0e9-ce0574dfabe1"
      },
      "execution_count": null,
      "outputs": [
        {
          "output_type": "execute_result",
          "data": {
            "text/plain": [
              "Index([' 2022 Passenger Rank ', ' Airport Code ', ' Airport Name ',\n",
              "       ' City Name ', ' State Name ', ' Average Fare ($) ',\n",
              "       ' Inflation Adjusted Average Fare ($) (Base Quarter:  Q2-2023) ',\n",
              "       ' 2022 Passengers (10% sample) '],\n",
              "      dtype='object')"
            ]
          },
          "metadata": {},
          "execution_count": 16
        }
      ]
    },
    {
      "cell_type": "code",
      "execution_count": null,
      "metadata": {
        "colab": {
          "base_uri": "https://localhost:8080/"
        },
        "id": "-3wwv2fgdnqo",
        "outputId": "8159cf5f-2484-4a62-bce1-5f27eadbf196"
      },
      "outputs": [
        {
          "output_type": "execute_result",
          "data": {
            "text/plain": [
              " Average Fare ($)                                                 1.000000\n",
              " Inflation Adjusted Average Fare ($) (Base Quarter:  Q2-2023)     1.000000\n",
              " 2022 Passenger Rank                                              0.065056\n",
              " City Name                                                       -0.012752\n",
              " State Name                                                      -0.016253\n",
              " Airport Name                                                    -0.025606\n",
              " Airport Code                                                    -0.053878\n",
              " 2022 Passengers (10% sample)                                    -0.076333\n",
              "Name:  Average Fare ($) , dtype: float64"
            ]
          },
          "metadata": {},
          "execution_count": 17
        }
      ],
      "source": [
        "corr_matrix = df.corr()\n",
        "corr_matrix[' Average Fare ($) '].sort_values(ascending=False)"
      ]
    },
    {
      "cell_type": "code",
      "execution_count": null,
      "metadata": {
        "colab": {
          "base_uri": "https://localhost:8080/",
          "height": 1000
        },
        "id": "Ueuuvp4gkR99",
        "outputId": "109026ac-d96d-4ae2-f315-921d90187f4f"
      },
      "outputs": [
        {
          "output_type": "display_data",
          "data": {
            "text/plain": [
              "<Figure size 1000x800 with 2 Axes>"
            ],
            "image/png": "[encoded data removed]"
          },
          "metadata": {}
        }
      ],
      "source": [
        "import seaborn as sns\n",
        "import matplotlib.pyplot as plt\n",
        "\n",
        "correlation_matrix = df.corr()\n",
        "\n",
        "# Create a heatmap\n",
        "plt.figure(figsize=(10, 8))\n",
        "sns.heatmap(correlation_matrix, annot=True, cmap='coolwarm', linewidths=0.5)\n",
        "plt.title('Correlation Matrix Heatmap')\n",
        "plt.show()"
      ]
    },
    {
      "cell_type": "code",
      "source": [
        "df.describe()"
      ],
      "metadata": {
        "colab": {
          "base_uri": "https://localhost:8080/",
          "height": 317
        },
        "id": "h-MDtt6pxGoo",
        "outputId": "d2893717-9c91-431e-a6a0-75bf3adaefe6"
      },
      "execution_count": null,
      "outputs": [
        {
          "output_type": "execute_result",
          "data": {
            "text/plain": [
              "        2022 Passenger Rank    Airport Code    Airport Name    City Name   \\\n",
              "count             438.000000      438.000000      438.000000   438.000000   \n",
              "mean              215.636986      217.502283      218.305936   209.764840   \n",
              "std               122.792166      126.580023      126.281124   122.543307   \n",
              "min                 0.000000        0.000000        0.000000     0.000000   \n",
              "25%               109.250000      108.250000      109.250000   102.250000   \n",
              "50%               218.500000      217.500000      218.500000   208.500000   \n",
              "75%               325.750000      326.750000      327.750000   315.750000   \n",
              "max               423.000000      436.000000      435.000000   421.000000   \n",
              "\n",
              "        State Name    Average Fare ($)   \\\n",
              "count    438.000000          438.000000   \n",
              "mean      24.219178          489.390297   \n",
              "std       16.348392          179.214265   \n",
              "min        0.000000          111.810000   \n",
              "25%        9.000000          399.307500   \n",
              "50%       24.000000          489.000149   \n",
              "75%       38.000000          571.547500   \n",
              "max       53.000000         1858.000000   \n",
              "\n",
              "        Inflation Adjusted Average Fare ($) (Base Quarter:  Q2-2023)   \\\n",
              "count                                         438.000000                \n",
              "mean                                          489.390297                \n",
              "std                                           179.214265                \n",
              "min                                           111.810000                \n",
              "25%                                           399.307500                \n",
              "50%                                           489.000149                \n",
              "75%                                           571.547500                \n",
              "max                                          1858.000000                \n",
              "\n",
              "        2022 Passengers (10% sample)   \n",
              "count                      438.000000  \n",
              "mean                       210.993151  \n",
              "std                        122.203182  \n",
              "min                          0.000000  \n",
              "25%                        105.250000  \n",
              "50%                        213.500000  \n",
              "75%                        316.750000  \n",
              "max                        422.000000  "
            ],
            "text/html": [
              "\n",
              "  <div id=\"df-9711e9db-d2ea-42b0-b89c-23d3ecc416e1\" class=\"colab-df-container\">\n",
              "    <div>\n",
              "<style scoped>\n",
              "    .dataframe tbody tr th:only-of-type {\n",
              "        vertical-align: middle;\n",
              "    }\n",
              "\n",
              "    .dataframe tbody tr th {\n",
              "        vertical-align: top;\n",
              "    }\n",
              "\n",
              "    .dataframe thead th {\n",
              "        text-align: right;\n",
              "    }\n",
              "</style>\n",
              "<table border=\"1\" class=\"dataframe\">\n",
              "  <thead>\n",
              "    <tr style=\"text-align: right;\">\n",
              "      <th></th>\n",
              "      <th>2022 Passenger Rank</th>\n",
              "      <th>Airport Code</th>\n",
              "      <th>Airport Name</th>\n",
              "      <th>City Name</th>\n",
              "      <th>State Name</th>\n",
              "      <th>Average Fare ($)</th>\n",
              "      <th>Inflation Adjusted Average Fare ($) (Base Quarter:  Q2-2023)</th>\n",
              "      <th>2022 Passengers (10% sample)</th>\n",
              "    </tr>\n",
              "  </thead>\n",
              "  <tbody>\n",
              "    <tr>\n",
              "      <th>count</th>\n",
              "      <td>438.000000</td>\n",
              "      <td>438.000000</td>\n",
              "      <td>438.000000</td>\n",
              "      <td>438.000000</td>\n",
              "      <td>438.000000</td>\n",
              "      <td>438.000000</td>\n",
              "      <td>438.000000</td>\n",
              "      <td>438.000000</td>\n",
              "    </tr>\n",
              "    <tr>\n",
              "      <th>mean</th>\n",
              "      <td>215.636986</td>\n",
              "      <td>217.502283</td>\n",
              "      <td>218.305936</td>\n",
              "      <td>209.764840</td>\n",
              "      <td>24.219178</td>\n",
              "      <td>489.390297</td>\n",
              "      <td>489.390297</td>\n",
              "      <td>210.993151</td>\n",
              "    </tr>\n",
              "    <tr>\n",
              "      <th>std</th>\n",
              "      <td>122.792166</td>\n",
              "      <td>126.580023</td>\n",
              "      <td>126.281124</td>\n",
              "      <td>122.543307</td>\n",
              "      <td>16.348392</td>\n",
              "      <td>179.214265</td>\n",
              "      <td>179.214265</td>\n",
              "      <td>122.203182</td>\n",
              "    </tr>\n",
              "    <tr>\n",
              "      <th>min</th>\n",
              "      <td>0.000000</td>\n",
              "      <td>0.000000</td>\n",
              "      <td>0.000000</td>\n",
              "      <td>0.000000</td>\n",
              "      <td>0.000000</td>\n",
              "      <td>111.810000</td>\n",
              "      <td>111.810000</td>\n",
              "      <td>0.000000</td>\n",
              "    </tr>\n",
              "    <tr>\n",
              "      <th>25%</th>\n",
              "      <td>109.250000</td>\n",
              "      <td>108.250000</td>\n",
              "      <td>109.250000</td>\n",
              "      <td>102.250000</td>\n",
              "      <td>9.000000</td>\n",
              "      <td>399.307500</td>\n",
              "      <td>399.307500</td>\n",
              "      <td>105.250000</td>\n",
              "    </tr>\n",
              "    <tr>\n",
              "      <th>50%</th>\n",
              "      <td>218.500000</td>\n",
              "      <td>217.500000</td>\n",
              "      <td>218.500000</td>\n",
              "      <td>208.500000</td>\n",
              "      <td>24.000000</td>\n",
              "      <td>489.000149</td>\n",
              "      <td>489.000149</td>\n",
              "      <td>213.500000</td>\n",
              "    </tr>\n",
              "    <tr>\n",
              "      <th>75%</th>\n",
              "      <td>325.750000</td>\n",
              "      <td>326.750000</td>\n",
              "      <td>327.750000</td>\n",
              "      <td>315.750000</td>\n",
              "      <td>38.000000</td>\n",
              "      <td>571.547500</td>\n",
              "      <td>571.547500</td>\n",
              "      <td>316.750000</td>\n",
              "    </tr>\n",
              "    <tr>\n",
              "      <th>max</th>\n",
              "      <td>423.000000</td>\n",
              "      <td>436.000000</td>\n",
              "      <td>435.000000</td>\n",
              "      <td>421.000000</td>\n",
              "      <td>53.000000</td>\n",
              "      <td>1858.000000</td>\n",
              "      <td>1858.000000</td>\n",
              "      <td>422.000000</td>\n",
              "    </tr>\n",
              "  </tbody>\n",
              "</table>\n",
              "</div>\n",
              "    <div class=\"colab-df-buttons\">\n",
              "\n",
              "  <div class=\"colab-df-container\">\n",
              "    <button class=\"colab-df-convert\" onclick=\"convertToInteractive('df-9711e9db-d2ea-42b0-b89c-23d3ecc416e1')\"\n",
              "            title=\"Convert this dataframe to an interactive table.\"\n",
              "            style=\"display:none;\">\n",
              "\n",
              "  <svg xmlns=\"http://www.w3.org/2000/svg\" height=\"24px\" viewBox=\"0 -960 960 960\">\n",
              "    <path d=\"M120-120v-720h720v720H120Zm60-500h600v-160H180v160Zm220 220h160v-160H400v160Zm0 220h160v-160H400v160ZM180-400h160v-160H180v160Zm440 0h160v-160H620v160ZM180-180h160v-160H180v160Zm440 0h160v-160H620v160Z\"/>\n",
              "  </svg>\n",
              "    </button>\n",
              "\n",
              "  <style>\n",
              "    .colab-df-container {\n",
              "      display:flex;\n",
              "      gap: 12px;\n",
              "    }\n",
              "\n",
              "    .colab-df-convert {\n",
              "      background-color: #E8F0FE;\n",
              "      border: none;\n",
              "      border-radius: 50%;\n",
              "      cursor: pointer;\n",
              "      display: none;\n",
              "      fill: #1967D2;\n",
              "      height: 32px;\n",
              "      padding: 0 0 0 0;\n",
              "      width: 32px;\n",
              "    }\n",
              "\n",
              "    .colab-df-convert:hover {\n",
              "      background-color: #E2EBFA;\n",
              "      box-shadow: 0px 1px 2px rgba(60, 64, 67, 0.3), 0px 1px 3px 1px rgba(60, 64, 67, 0.15);\n",
              "      fill: #174EA6;\n",
              "    }\n",
              "\n",
              "    .colab-df-buttons div {\n",
              "      margin-bottom: 4px;\n",
              "    }\n",
              "\n",
              "    [theme=dark] .colab-df-convert {\n",
              "      background-color: #3B4455;\n",
              "      fill: #D2E3FC;\n",
              "    }\n",
              "\n",
              "    [theme=dark] .colab-df-convert:hover {\n",
              "      background-color: #434B5C;\n",
              "      box-shadow: 0px 1px 3px 1px rgba(0, 0, 0, 0.15);\n",
              "      filter: drop-shadow(0px 1px 2px rgba(0, 0, 0, 0.3));\n",
              "      fill: #FFFFFF;\n",
              "    }\n",
              "  </style>\n",
              "\n",
              "    <script>\n",
              "      const buttonEl =\n",
              "        document.querySelector('#df-9711e9db-d2ea-42b0-b89c-23d3ecc416e1 button.colab-df-convert');\n",
              "      buttonEl.style.display =\n",
              "        google.colab.kernel.accessAllowed ? 'block' : 'none';\n",
              "\n",
              "      async function convertToInteractive(key) {\n",
              "        const element = document.querySelector('#df-9711e9db-d2ea-42b0-b89c-23d3ecc416e1');\n",
              "        const dataTable =\n",
              "          await google.colab.kernel.invokeFunction('convertToInteractive',\n",
              "                                                    [key], {});\n",
              "        if (!dataTable) return;\n",
              "\n",
              "        const docLinkHtml = 'Like what you see? Visit the ' +\n",
              "          '<a target=\"_blank\" href=https://colab.research.google.com/notebooks/data_table.ipynb>data table notebook</a>'\n",
              "          + ' to learn more about interactive tables.';\n",
              "        element.innerHTML = '';\n",
              "        dataTable['output_type'] = 'display_data';\n",
              "        await google.colab.output.renderOutput(dataTable, element);\n",
              "        const docLink = document.createElement('div');\n",
              "        docLink.innerHTML = docLinkHtml;\n",
              "        element.appendChild(docLink);\n",
              "      }\n",
              "    </script>\n",
              "  </div>\n",
              "\n",
              "\n",
              "<div id=\"df-40571582-6018-4b4b-a9ac-5d8ee32ecb29\">\n",
              "  <button class=\"colab-df-quickchart\" onclick=\"quickchart('df-40571582-6018-4b4b-a9ac-5d8ee32ecb29')\"\n",
              "            title=\"Suggest charts\"\n",
              "            style=\"display:none;\">\n",
              "\n",
              "<svg xmlns=\"http://www.w3.org/2000/svg\" height=\"24px\"viewBox=\"0 0 24 24\"\n",
              "     width=\"24px\">\n",
              "    <g>\n",
              "        <path d=\"M19 3H5c-1.1 0-2 .9-2 2v14c0 1.1.9 2 2 2h14c1.1 0 2-.9 2-2V5c0-1.1-.9-2-2-2zM9 17H7v-7h2v7zm4 0h-2V7h2v10zm4 0h-2v-4h2v4z\"/>\n",
              "    </g>\n",
              "</svg>\n",
              "  </button>\n",
              "\n",
              "<style>\n",
              "  .colab-df-quickchart {\n",
              "      --bg-color: #E8F0FE;\n",
              "      --fill-color: #1967D2;\n",
              "      --hover-bg-color: #E2EBFA;\n",
              "      --hover-fill-color: #174EA6;\n",
              "      --disabled-fill-color: #AAA;\n",
              "      --disabled-bg-color: #DDD;\n",
              "  }\n",
              "\n",
              "  [theme=dark] .colab-df-quickchart {\n",
              "      --bg-color: #3B4455;\n",
              "      --fill-color: #D2E3FC;\n",
              "      --hover-bg-color: #434B5C;\n",
              "      --hover-fill-color: #FFFFFF;\n",
              "      --disabled-bg-color: #3B4455;\n",
              "      --disabled-fill-color: #666;\n",
              "  }\n",
              "\n",
              "  .colab-df-quickchart {\n",
              "    background-color: var(--bg-color);\n",
              "    border: none;\n",
              "    border-radius: 50%;\n",
              "    cursor: pointer;\n",
              "    display: none;\n",
              "    fill: var(--fill-color);\n",
              "    height: 32px;\n",
              "    padding: 0;\n",
              "    width: 32px;\n",
              "  }\n",
              "\n",
              "  .colab-df-quickchart:hover {\n",
              "    background-color: var(--hover-bg-color);\n",
              "    box-shadow: 0 1px 2px rgba(60, 64, 67, 0.3), 0 1px 3px 1px rgba(60, 64, 67, 0.15);\n",
              "    fill: var(--button-hover-fill-color);\n",
              "  }\n",
              "\n",
              "  .colab-df-quickchart-complete:disabled,\n",
              "  .colab-df-quickchart-complete:disabled:hover {\n",
              "    background-color: var(--disabled-bg-color);\n",
              "    fill: var(--disabled-fill-color);\n",
              "    box-shadow: none;\n",
              "  }\n",
              "\n",
              "  .colab-df-spinner {\n",
              "    border: 2px solid var(--fill-color);\n",
              "    border-color: transparent;\n",
              "    border-bottom-color: var(--fill-color);\n",
              "    animation:\n",
              "      spin 1s steps(1) infinite;\n",
              "  }\n",
              "\n",
              "  @keyframes spin {\n",
              "    0% {\n",
              "      border-color: transparent;\n",
              "      border-bottom-color: var(--fill-color);\n",
              "      border-left-color: var(--fill-color);\n",
              "    }\n",
              "    20% {\n",
              "      border-color: transparent;\n",
              "      border-left-color: var(--fill-color);\n",
              "      border-top-color: var(--fill-color);\n",
              "    }\n",
              "    30% {\n",
              "      border-color: transparent;\n",
              "      border-left-color: var(--fill-color);\n",
              "      border-top-color: var(--fill-color);\n",
              "      border-right-color: var(--fill-color);\n",
              "    }\n",
              "    40% {\n",
              "      border-color: transparent;\n",
              "      border-right-color: var(--fill-color);\n",
              "      border-top-color: var(--fill-color);\n",
              "    }\n",
              "    60% {\n",
              "      border-color: transparent;\n",
              "      border-right-color: var(--fill-color);\n",
              "    }\n",
              "    80% {\n",
              "      border-color: transparent;\n",
              "      border-right-color: var(--fill-color);\n",
              "      border-bottom-color: var(--fill-color);\n",
              "    }\n",
              "    90% {\n",
              "      border-color: transparent;\n",
              "      border-bottom-color: var(--fill-color);\n",
              "    }\n",
              "  }\n",
              "</style>\n",
              "\n",
              "  <script>\n",
              "    async function quickchart(key) {\n",
              "      const quickchartButtonEl =\n",
              "        document.querySelector('#' + key + ' button');\n",
              "      quickchartButtonEl.disabled = true;  // To prevent multiple clicks.\n",
              "      quickchartButtonEl.classList.add('colab-df-spinner');\n",
              "      try {\n",
              "        const charts = await google.colab.kernel.invokeFunction(\n",
              "            'suggestCharts', [key], {});\n",
              "      } catch (error) {\n",
              "        console.error('Error during call to suggestCharts:', error);\n",
              "      }\n",
              "      quickchartButtonEl.classList.remove('colab-df-spinner');\n",
              "      quickchartButtonEl.classList.add('colab-df-quickchart-complete');\n",
              "    }\n",
              "    (() => {\n",
              "      let quickchartButtonEl =\n",
              "        document.querySelector('#df-40571582-6018-4b4b-a9ac-5d8ee32ecb29 button');\n",
              "      quickchartButtonEl.style.display =\n",
              "        google.colab.kernel.accessAllowed ? 'block' : 'none';\n",
              "    })();\n",
              "  </script>\n",
              "</div>\n",
              "    </div>\n",
              "  </div>\n"
            ]
          },
          "metadata": {},
          "execution_count": 19
        }
      ]
    },
    {
      "cell_type": "code",
      "source": [
        "from sklearn.model_selection import train_test_split\n",
        "X=df.iloc[:].values\n",
        "y=df.iloc[:].values\n",
        "X_train, X_temp, y_train, y_temp = train_test_split(X, y, test_size = 0.2, random_state = 42)\n",
        "X_val, X_test, y_val, y_test = train_test_split(X_temp, y_temp, test_size = 0.5, random_state = 42)\n",
        "\n",
        "print(f\"Training set size: {X_train.shape[0]} samples\")\n",
        "print(f\"Validation set size: {X_val.shape[0]} samples\")\n",
        "print(f\"Test set size: {X_test.shape[0]} samples\")"
      ],
      "metadata": {
        "colab": {
          "base_uri": "https://localhost:8080/"
        },
        "id": "kwaxJXpexYXK",
        "outputId": "82722a5e-a86f-42f7-dbe9-94a8e739eef5"
      },
      "execution_count": null,
      "outputs": [
        {
          "output_type": "stream",
          "name": "stdout",
          "text": [
            "Training set size: 350 samples\n",
            "Validation set size: 44 samples\n",
            "Test set size: 44 samples\n"
          ]
        }
      ]
    },
    {
      "cell_type": "code",
      "source": [
        "from sklearn.linear_model import LinearRegression\n",
        "regressor = LinearRegression()\n",
        "regressor.fit(X_train,y_train)"
      ],
      "metadata": {
        "id": "BHhYB5qtyggA",
        "colab": {
          "base_uri": "https://localhost:8080/",
          "height": 74
        },
        "outputId": "ba443c73-b7d7-45bd-b01f-ee453686af4f"
      },
      "execution_count": null,
      "outputs": [
        {
          "output_type": "execute_result",
          "data": {
            "text/plain": [
              "LinearRegression()"
            ],
            "text/html": [
              "<style>#sk-container-id-1 {color: black;background-color: white;}#sk-container-id-1 pre{padding: 0;}#sk-container-id-1 div.sk-toggleable {background-color: white;}#sk-container-id-1 label.sk-toggleable__label {cursor: pointer;display: block;width: 100%;margin-bottom: 0;padding: 0.3em;box-sizing: border-box;text-align: center;}#sk-container-id-1 label.sk-toggleable__label-arrow:before {content: \"▸\";float: left;margin-right: 0.25em;color: #696969;}#sk-container-id-1 label.sk-toggleable__label-arrow:hover:before {color: black;}#sk-container-id-1 div.sk-estimator:hover label.sk-toggleable__label-arrow:before {color: black;}#sk-container-id-1 div.sk-toggleable__content {max-height: 0;max-width: 0;overflow: hidden;text-align: left;background-color: #f0f8ff;}#sk-container-id-1 div.sk-toggleable__content pre {margin: 0.2em;color: black;border-radius: 0.25em;background-color: #f0f8ff;}#sk-container-id-1 input.sk-toggleable__control:checked~div.sk-toggleable__content {max-height: 200px;max-width: 100%;overflow: auto;}#sk-container-id-1 input.sk-toggleable__control:checked~label.sk-toggleable__label-arrow:before {content: \"▾\";}#sk-container-id-1 div.sk-estimator input.sk-toggleable__control:checked~label.sk-toggleable__label {background-color: #d4ebff;}#sk-container-id-1 div.sk-label input.sk-toggleable__control:checked~label.sk-toggleable__label {background-color: #d4ebff;}#sk-container-id-1 input.sk-hidden--visually {border: 0;clip: rect(1px 1px 1px 1px);clip: rect(1px, 1px, 1px, 1px);height: 1px;margin: -1px;overflow: hidden;padding: 0;position: absolute;width: 1px;}#sk-container-id-1 div.sk-estimator {font-family: monospace;background-color: #f0f8ff;border: 1px dotted black;border-radius: 0.25em;box-sizing: border-box;margin-bottom: 0.5em;}#sk-container-id-1 div.sk-estimator:hover {background-color: #d4ebff;}#sk-container-id-1 div.sk-parallel-item::after {content: \"\";width: 100%;border-bottom: 1px solid gray;flex-grow: 1;}#sk-container-id-1 div.sk-label:hover label.sk-toggleable__label {background-color: #d4ebff;}#sk-container-id-1 div.sk-serial::before {content: \"\";position: absolute;border-left: 1px solid gray;box-sizing: border-box;top: 0;bottom: 0;left: 50%;z-index: 0;}#sk-container-id-1 div.sk-serial {display: flex;flex-direction: column;align-items: center;background-color: white;padding-right: 0.2em;padding-left: 0.2em;position: relative;}#sk-container-id-1 div.sk-item {position: relative;z-index: 1;}#sk-container-id-1 div.sk-parallel {display: flex;align-items: stretch;justify-content: center;background-color: white;position: relative;}#sk-container-id-1 div.sk-item::before, #sk-container-id-1 div.sk-parallel-item::before {content: \"\";position: absolute;border-left: 1px solid gray;box-sizing: border-box;top: 0;bottom: 0;left: 50%;z-index: -1;}#sk-container-id-1 div.sk-parallel-item {display: flex;flex-direction: column;z-index: 1;position: relative;background-color: white;}#sk-container-id-1 div.sk-parallel-item:first-child::after {align-self: flex-end;width: 50%;}#sk-container-id-1 div.sk-parallel-item:last-child::after {align-self: flex-start;width: 50%;}#sk-container-id-1 div.sk-parallel-item:only-child::after {width: 0;}#sk-container-id-1 div.sk-dashed-wrapped {border: 1px dashed gray;margin: 0 0.4em 0.5em 0.4em;box-sizing: border-box;padding-bottom: 0.4em;background-color: white;}#sk-container-id-1 div.sk-label label {font-family: monospace;font-weight: bold;display: inline-block;line-height: 1.2em;}#sk-container-id-1 div.sk-label-container {text-align: center;}#sk-container-id-1 div.sk-container {/* jupyter's `normalize.less` sets `[hidden] { display: none; }` but bootstrap.min.css set `[hidden] { display: none !important; }` so we also need the `!important` here to be able to override the default hidden behavior on the sphinx rendered scikit-learn.org. See: https://github.com/scikit-learn/scikit-learn/issues/21755 */display: inline-block !important;position: relative;}#sk-container-id-1 div.sk-text-repr-fallback {display: none;}</style><div id=\"sk-container-id-1\" class=\"sk-top-container\"><div class=\"sk-text-repr-fallback\"><pre>LinearRegression()</pre><b>In a Jupyter environment, please rerun this cell to show the HTML representation or trust the notebook. <br />On GitHub, the HTML representation is unable to render, please try loading this page with nbviewer.org.</b></div><div class=\"sk-container\" hidden><div class=\"sk-item\"><div class=\"sk-estimator sk-toggleable\"><input class=\"sk-toggleable__control sk-hidden--visually\" id=\"sk-estimator-id-1\" type=\"checkbox\" checked><label for=\"sk-estimator-id-1\" class=\"sk-toggleable__label sk-toggleable__label-arrow\">LinearRegression</label><div class=\"sk-toggleable__content\"><pre>LinearRegression()</pre></div></div></div></div></div>"
            ]
          },
          "metadata": {},
          "execution_count": 21
        }
      ]
    },
    {
      "cell_type": "code",
      "source": [
        "y_pred = regressor.predict(X_test)\n",
        "y_pred"
      ],
      "metadata": {
        "colab": {
          "base_uri": "https://localhost:8080/"
        },
        "id": "yi1VoYB8BBuh",
        "outputId": "0c8ab8bc-49a6-434e-af58-ddca07d3ff16"
      },
      "execution_count": null,
      "outputs": [
        {
          "output_type": "execute_result",
          "data": {
            "text/plain": [
              "array([[ 2.31000000e+02,  3.26000000e+02,  2.92000000e+02,\n",
              "         2.91000000e+02,  4.40000000e+01,  1.23775000e+03,\n",
              "         1.23775000e+03,  2.50000000e+01],\n",
              "       [ 2.95000000e+02,  1.07000000e+02,  1.02000000e+02,\n",
              "         1.01000000e+02,  1.60000000e+01,  4.64320000e+02,\n",
              "         4.64320000e+02,  2.16000000e+02],\n",
              "       [ 3.93000000e+02,  1.55000000e+02,  3.77000000e+02,\n",
              "         3.70000000e+02,  5.00000000e+01,  4.50880000e+02,\n",
              "         4.50880000e+02,  4.00000000e+00],\n",
              "       [ 2.35000000e+02,  3.43000000e+02,  3.22000000e+02,\n",
              "         3.19000000e+02,  2.70000000e+01,  3.81720000e+02,\n",
              "         3.81720000e+02,  1.99000000e+02],\n",
              "       [ 1.42000000e+02,  2.41000000e+02,  2.23000000e+02,\n",
              "         2.24000000e+02,  2.90000000e+01,  5.73270000e+02,\n",
              "         5.73270000e+02,  2.90000000e+02],\n",
              "       [ 2.96000000e+02,  2.20000000e+02,  1.88000000e+02,\n",
              "         1.87000000e+02,  3.80000000e+01,  4.61190000e+02,\n",
              "         4.61190000e+02,  1.91000000e+02],\n",
              "       [ 2.15000000e+02,  4.60000000e+01,  2.70000000e+01,\n",
              "         3.50000000e+01,  2.30000000e+01,  7.06210000e+02,\n",
              "         7.06210000e+02,  4.10000000e+01],\n",
              "       [ 3.96000000e+02,  4.15000000e+02,  3.96000000e+02,\n",
              "         3.90000000e+02,  3.00000000e+00,  4.74840000e+02,\n",
              "         4.74840000e+02,  4.15000000e+02],\n",
              "       [ 3.62000000e+02,  1.81000000e+02,  1.58000000e+02,\n",
              "         1.51000000e+02, -6.02989880e-14,  7.02500000e+02,\n",
              "         7.02500000e+02,  2.32794221e-13],\n",
              "       [ 3.47000000e+02,  1.28000000e+02,  3.70000000e+02,\n",
              "         1.10000000e+02,  2.00000000e+00,  5.43400000e+02,\n",
              "         5.43400000e+02,  2.27000000e+02],\n",
              "       [ 1.68000000e+02,  6.60000000e+01,  2.20000000e+01,\n",
              "         2.60000000e+01,  2.00000000e+01,  3.70540000e+02,\n",
              "         3.70540000e+02,  2.54000000e+02],\n",
              "       [ 3.03000000e+02,  2.57000000e+02,  2.41000000e+02,\n",
              "         2.40000000e+02,  1.20000000e+01,  4.41000000e+02,\n",
              "         4.41000000e+02,  1.72000000e+02],\n",
              "       [ 3.20000000e+01,  1.91000000e+02,  3.99000000e+02,\n",
              "         2.70000000e+02,  6.00000000e+00,  2.01710000e+02,\n",
              "         2.01710000e+02,  1.88000000e+02],\n",
              "       [ 1.64000000e+02,  9.70000000e+01,  8.10000000e+01,\n",
              "         8.20000000e+01,  1.00000000e+01,  5.69650000e+02,\n",
              "         5.69650000e+02,  2.46000000e+02],\n",
              "       [ 4.40000000e+01,  1.51000000e+02,  1.31000000e+02,\n",
              "         1.30000000e+02,  1.50000000e+01,  4.50330000e+02,\n",
              "         4.50330000e+02,  1.70000000e+02],\n",
              "       [ 2.07000000e+02,  3.94000000e+02,  3.61000000e+02,\n",
              "         4.13000000e+02,  4.50000000e+01,  6.06800000e+02,\n",
              "         6.06800000e+02,  5.20000000e+01],\n",
              "       [ 3.48000000e+02,  3.60000000e+01,  4.20000000e+01,\n",
              "         4.70000000e+01,  3.80000000e+01,  4.86850000e+02,\n",
              "         4.86850000e+02,  2.20000000e+02],\n",
              "       [ 4.15000000e+02,  2.39000000e+02,  2.22000000e+02,\n",
              "         2.23000000e+02,  1.10000000e+01,  2.57820000e+02,\n",
              "         2.57820000e+02,  3.26000000e+02],\n",
              "       [ 1.13000000e+02,  1.45000000e+02,  1.29000000e+02,\n",
              "         1.26000000e+02,  9.00000000e+00,  2.72930000e+02,\n",
              "         2.72930000e+02,  2.95000000e+02],\n",
              "       [ 3.45000000e+02,  3.71000000e+02,  3.65000000e+02,\n",
              "         3.64000000e+02,  2.60000000e+01,  5.95830000e+02,\n",
              "         5.95830000e+02,  2.79000000e+02],\n",
              "       [ 3.98000000e+02,  2.38000000e+02,  2.25000000e+02,\n",
              "         2.26000000e+02,  4.00000000e+00,  3.22180000e+02,\n",
              "         3.22180000e+02,  3.98000000e+02],\n",
              "       [ 3.04000000e+02,  1.20000000e+02,  4.01000000e+02,\n",
              "         3.95000000e+02,  4.45918144e-14,  1.44892000e+03,\n",
              "         1.44892000e+03,  1.71000000e+02],\n",
              "       [ 2.66000000e+02,  3.02000000e+02,  3.75000000e+02,\n",
              "         2.80000000e+02,  3.70000000e+01,  5.02190000e+02,\n",
              "         5.02190000e+02,  3.50000000e+02],\n",
              "       [ 3.53000000e+02,  2.95000000e+02,  2.07000000e+02,\n",
              "         4.16000000e+02,  2.60000000e+01,  8.98000000e+02,\n",
              "         8.98000000e+02,  1.02000000e+02],\n",
              "       [ 3.36000000e+02,  9.00000000e+00,  3.00000000e+00,\n",
              "         2.00000000e+00,  1.06293647e-14,  7.95470000e+02,\n",
              "         7.95470000e+02,  3.51000000e+02],\n",
              "       [ 1.79000000e+02,  3.10000000e+02,  3.08000000e+02,\n",
              "         3.08000000e+02,  3.70000000e+01,  4.19930000e+02,\n",
              "         4.19930000e+02,  2.43000000e+02],\n",
              "       [ 2.14000000e+02,  3.96000000e+02,  3.82000000e+02,\n",
              "         3.72000000e+02,  2.30000000e+01,  2.14480000e+02,\n",
              "         2.14480000e+02,  4.30000000e+01],\n",
              "       [ 2.44000000e+02,  3.31000000e+02,  2.98000000e+02,\n",
              "         3.00000000e+02,  8.31211718e-14,  5.01830000e+02,\n",
              "         5.01830000e+02,  4.20000000e+02],\n",
              "       [ 2.92000000e+02,  4.34000000e+02,  4.31000000e+02,\n",
              "         4.20000000e+02,  5.46365438e-14,  5.20940000e+02,\n",
              "         5.20940000e+02,  2.23000000e+02],\n",
              "       [ 3.95000000e+02,  3.37000000e+02,  3.29000000e+02,\n",
              "         3.12000000e+02,  4.00000000e+01,  3.83720000e+02,\n",
              "         3.83720000e+02,  4.19000000e+02],\n",
              "       [ 2.67000000e+02,  3.97000000e+02,  3.80000000e+02,\n",
              "         3.74000000e+02,  2.40000000e+01,  3.99990000e+02,\n",
              "         3.99990000e+02,  1.54000000e+02],\n",
              "       [ 6.30000000e+01,  2.74000000e+02,  3.18000000e+02,\n",
              "         2.57000000e+02,  1.40000000e+01,  4.80210000e+02,\n",
              "         4.80210000e+02,  1.11000000e+02],\n",
              "       [ 3.61000000e+02,  2.55000000e+02,  2.56000000e+02,\n",
              "         2.32000000e+02,  1.00000000e+01,  5.73400000e+02,\n",
              "         5.73400000e+02,  2.41000000e+02],\n",
              "       [ 1.52000000e+02,  2.66000000e+02,  2.37000000e+02,\n",
              "         2.35000000e+02,  1.60000000e+01,  5.27790000e+02,\n",
              "         5.27790000e+02,  2.59000000e+02],\n",
              "       [ 2.98000000e+02,  1.21000000e+02,  9.90000000e+01,\n",
              "         9.80000000e+01,  2.80000000e+01,  5.73570000e+02,\n",
              "         5.73570000e+02,  1.82000000e+02],\n",
              "       [ 4.06000000e+02,  3.52000000e+02,  1.33000000e+02,\n",
              "         3.27000000e+02,  3.40000000e+01,  3.82370000e+02,\n",
              "         3.82370000e+02,  3.70000000e+02],\n",
              "       [ 1.70000000e+02,  4.01000000e+02,  1.35000000e+02,\n",
              "         3.80000000e+02,  1.30000000e+01,  6.55340000e+02,\n",
              "         6.55340000e+02,  2.11000000e+02],\n",
              "       [ 4.18000000e+02,  2.81000000e+02,  8.80000000e+01,\n",
              "         2.33000000e+02,  5.10000000e+01,  5.47740000e+02,\n",
              "         5.47740000e+02,  3.20000000e+02],\n",
              "       [ 6.20000000e+01,  1.63000000e+02,  1.49000000e+02,\n",
              "         1.42000000e+02,  5.10000000e+01,  5.57960000e+02,\n",
              "         5.57960000e+02,  1.12000000e+02],\n",
              "       [ 3.47000000e+02,  7.20000000e+01,  6.10000000e+01,\n",
              "         6.10000000e+01,  2.90000000e+01,  3.86150000e+02,\n",
              "         3.86150000e+02,  2.27000000e+02],\n",
              "       [ 3.90000000e+01,  2.28000000e+02,  2.31000000e+02,\n",
              "         2.30000000e+02,  4.50000000e+01,  4.43930000e+02,\n",
              "         4.43930000e+02,  1.81000000e+02],\n",
              "       [ 2.87000000e+02,  2.00000000e+02,  2.72000000e+02,\n",
              "         4.15000000e+02,  8.00000000e+00,  1.39110000e+02,\n",
              "         1.39110000e+02,  2.36000000e+02],\n",
              "       [ 3.28000000e+02,  1.30000000e+01,  1.00000000e+01,\n",
              "         1.00000000e+01,  2.90000000e+01,  7.12160000e+02,\n",
              "         7.12160000e+02,  4.14000000e+02],\n",
              "       [ 8.00000000e+00,  3.20000000e+01,  3.00000000e+02,\n",
              "         3.02000000e+02,  3.00000000e+00,  1.95600000e+02,\n",
              "         1.95600000e+02,  2.71000000e+02]])"
            ]
          },
          "metadata": {},
          "execution_count": 23
        }
      ]
    },
    {
      "cell_type": "code",
      "source": [
        "from sklearn.metrics import r2_score, accuracy_score, precision_score\n",
        "r2_score(y_test, y_pred)"
      ],
      "metadata": {
        "colab": {
          "base_uri": "https://localhost:8080/"
        },
        "id": "Bwh47_WTBXf9",
        "outputId": "6052c8ff-bb12-4eae-bd08-b67b14d05359"
      },
      "execution_count": null,
      "outputs": [
        {
          "output_type": "execute_result",
          "data": {
            "text/plain": [
              "1.0"
            ]
          },
          "metadata": {},
          "execution_count": 40
        }
      ]
    },
    {
      "cell_type": "code",
      "source": [
        "score = regressor.score(X_test, y_test)\n",
        "score"
      ],
      "metadata": {
        "colab": {
          "base_uri": "https://localhost:8080/"
        },
        "id": "jQi0dD4RCBzE",
        "outputId": "c36f1443-995b-4c4c-e14b-c8bb346c9927"
      },
      "execution_count": null,
      "outputs": [
        {
          "output_type": "execute_result",
          "data": {
            "text/plain": [
              "1.0"
            ]
          },
          "metadata": {},
          "execution_count": 41
        }
      ]
    }
  ],
  "metadata": {
    "colab": {
      "provenance": [],
      "authorship_tag": "ABX9TyMYUqfuRvTXKDHYM9J3oL5x",
      "include_colab_link": true
    },
    "kernelspec": {
      "display_name": "Python 3",
      "name": "python3"
    },
    "language_info": {
      "name": "python"
    }
  },
  "nbformat": 4,
  "nbformat_minor": 0
}