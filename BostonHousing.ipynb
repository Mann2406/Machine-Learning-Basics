{
  "nbformat": 4,
  "nbformat_minor": 0,
  "metadata": {
    "colab": {
      "provenance": [],
      "authorship_tag": "ABX9TyOQ82o7gFDPsFZj9IImh7fo",
      "include_colab_link": true
    },
    "kernelspec": {
      "name": "python3",
      "display_name": "Python 3"
    },
    "language_info": {
      "name": "python"
    }
  },
  "cells": [
    {
      "cell_type": "markdown",
      "metadata": {
        "id": "view-in-github",
        "colab_type": "text"
      },
      "source": [
        "<a href=\"https://colab.research.google.com/github/Mann2406/Work/blob/work/BostonHousing.ipynb\" target=\"_parent\"><img src=\"https://colab.research.google.com/assets/colab-badge.svg\" alt=\"Open In Colab\"/></a>"
      ]
    },
    {
      "cell_type": "code",
      "execution_count": null,
      "metadata": {
        "id": "2GxxHiNf50Yq"
      },
      "outputs": [],
      "source": [
        "import numpy as np\n",
        "import pandas as pd\n",
        "\n",
        "from sklearn.linear_model import LinearRegression\n",
        "from sklearn.model_selection import train_test_split\n",
        "from sklearn.metrics import r2_score\n",
        "from sklearn.metrics import mean_squared_error\n",
        "\n",
        "import matplotlib.pyplot as plt\n",
        "import seaborn as sns"
      ]
    },
    {
      "cell_type": "code",
      "source": [
        "data = pd.read_csv('/content/housing.csv')\n",
        "data"
      ],
      "metadata": {
        "colab": {
          "base_uri": "https://localhost:8080/",
          "height": 423
        },
        "id": "3-FieDWt6sEP",
        "outputId": "5126cd17-f17b-4da3-8166-ab8d802a62d4"
      },
      "execution_count": null,
      "outputs": [
        {
          "output_type": "execute_result",
          "data": {
            "text/plain": [
              "        RM  LSTAT  PTRATIO      MEDV\n",
              "0    6.575   4.98     15.3  504000.0\n",
              "1    6.421   9.14     17.8  453600.0\n",
              "2    7.185   4.03     17.8  728700.0\n",
              "3    6.998   2.94     18.7  701400.0\n",
              "4    7.147   5.33     18.7  760200.0\n",
              "..     ...    ...      ...       ...\n",
              "484  6.593   9.67     21.0  470400.0\n",
              "485  6.120   9.08     21.0  432600.0\n",
              "486  6.976   5.64     21.0  501900.0\n",
              "487  6.794   6.48     21.0  462000.0\n",
              "488  6.030   7.88     21.0  249900.0\n",
              "\n",
              "[489 rows x 4 columns]"
            ],
            "text/html": [
              "\n",
              "  <div id=\"df-ad51bd83-1c74-4eea-8f49-ad04cca9ae81\" class=\"colab-df-container\">\n",
              "    <div>\n",
              "<style scoped>\n",
              "    .dataframe tbody tr th:only-of-type {\n",
              "        vertical-align: middle;\n",
              "    }\n",
              "\n",
              "    .dataframe tbody tr th {\n",
              "        vertical-align: top;\n",
              "    }\n",
              "\n",
              "    .dataframe thead th {\n",
              "        text-align: right;\n",
              "    }\n",
              "</style>\n",
              "<table border=\"1\" class=\"dataframe\">\n",
              "  <thead>\n",
              "    <tr style=\"text-align: right;\">\n",
              "      <th></th>\n",
              "      <th>RM</th>\n",
              "      <th>LSTAT</th>\n",
              "      <th>PTRATIO</th>\n",
              "      <th>MEDV</th>\n",
              "    </tr>\n",
              "  </thead>\n",
              "  <tbody>\n",
              "    <tr>\n",
              "      <th>0</th>\n",
              "      <td>6.575</td>\n",
              "      <td>4.98</td>\n",
              "      <td>15.3</td>\n",
              "      <td>504000.0</td>\n",
              "    </tr>\n",
              "    <tr>\n",
              "      <th>1</th>\n",
              "      <td>6.421</td>\n",
              "      <td>9.14</td>\n",
              "      <td>17.8</td>\n",
              "      <td>453600.0</td>\n",
              "    </tr>\n",
              "    <tr>\n",
              "      <th>2</th>\n",
              "      <td>7.185</td>\n",
              "      <td>4.03</td>\n",
              "      <td>17.8</td>\n",
              "      <td>728700.0</td>\n",
              "    </tr>\n",
              "    <tr>\n",
              "      <th>3</th>\n",
              "      <td>6.998</td>\n",
              "      <td>2.94</td>\n",
              "      <td>18.7</td>\n",
              "      <td>701400.0</td>\n",
              "    </tr>\n",
              "    <tr>\n",
              "      <th>4</th>\n",
              "      <td>7.147</td>\n",
              "      <td>5.33</td>\n",
              "      <td>18.7</td>\n",
              "      <td>760200.0</td>\n",
              "    </tr>\n",
              "    <tr>\n",
              "      <th>...</th>\n",
              "      <td>...</td>\n",
              "      <td>...</td>\n",
              "      <td>...</td>\n",
              "      <td>...</td>\n",
              "    </tr>\n",
              "    <tr>\n",
              "      <th>484</th>\n",
              "      <td>6.593</td>\n",
              "      <td>9.67</td>\n",
              "      <td>21.0</td>\n",
              "      <td>470400.0</td>\n",
              "    </tr>\n",
              "    <tr>\n",
              "      <th>485</th>\n",
              "      <td>6.120</td>\n",
              "      <td>9.08</td>\n",
              "      <td>21.0</td>\n",
              "      <td>432600.0</td>\n",
              "    </tr>\n",
              "    <tr>\n",
              "      <th>486</th>\n",
              "      <td>6.976</td>\n",
              "      <td>5.64</td>\n",
              "      <td>21.0</td>\n",
              "      <td>501900.0</td>\n",
              "    </tr>\n",
              "    <tr>\n",
              "      <th>487</th>\n",
              "      <td>6.794</td>\n",
              "      <td>6.48</td>\n",
              "      <td>21.0</td>\n",
              "      <td>462000.0</td>\n",
              "    </tr>\n",
              "    <tr>\n",
              "      <th>488</th>\n",
              "      <td>6.030</td>\n",
              "      <td>7.88</td>\n",
              "      <td>21.0</td>\n",
              "      <td>249900.0</td>\n",
              "    </tr>\n",
              "  </tbody>\n",
              "</table>\n",
              "<p>489 rows × 4 columns</p>\n",
              "</div>\n",
              "    <div class=\"colab-df-buttons\">\n",
              "\n",
              "  <div class=\"colab-df-container\">\n",
              "    <button class=\"colab-df-convert\" onclick=\"convertToInteractive('df-ad51bd83-1c74-4eea-8f49-ad04cca9ae81')\"\n",
              "            title=\"Convert this dataframe to an interactive table.\"\n",
              "            style=\"display:none;\">\n",
              "\n",
              "  <svg xmlns=\"http://www.w3.org/2000/svg\" height=\"24px\" viewBox=\"0 -960 960 960\">\n",
              "    <path d=\"M120-120v-720h720v720H120Zm60-500h600v-160H180v160Zm220 220h160v-160H400v160Zm0 220h160v-160H400v160ZM180-400h160v-160H180v160Zm440 0h160v-160H620v160ZM180-180h160v-160H180v160Zm440 0h160v-160H620v160Z\"/>\n",
              "  </svg>\n",
              "    </button>\n",
              "\n",
              "  <style>\n",
              "    .colab-df-container {\n",
              "      display:flex;\n",
              "      gap: 12px;\n",
              "    }\n",
              "\n",
              "    .colab-df-convert {\n",
              "      background-color: #E8F0FE;\n",
              "      border: none;\n",
              "      border-radius: 50%;\n",
              "      cursor: pointer;\n",
              "      display: none;\n",
              "      fill: #1967D2;\n",
              "      height: 32px;\n",
              "      padding: 0 0 0 0;\n",
              "      width: 32px;\n",
              "    }\n",
              "\n",
              "    .colab-df-convert:hover {\n",
              "      background-color: #E2EBFA;\n",
              "      box-shadow: 0px 1px 2px rgba(60, 64, 67, 0.3), 0px 1px 3px 1px rgba(60, 64, 67, 0.15);\n",
              "      fill: #174EA6;\n",
              "    }\n",
              "\n",
              "    .colab-df-buttons div {\n",
              "      margin-bottom: 4px;\n",
              "    }\n",
              "\n",
              "    [theme=dark] .colab-df-convert {\n",
              "      background-color: #3B4455;\n",
              "      fill: #D2E3FC;\n",
              "    }\n",
              "\n",
              "    [theme=dark] .colab-df-convert:hover {\n",
              "      background-color: #434B5C;\n",
              "      box-shadow: 0px 1px 3px 1px rgba(0, 0, 0, 0.15);\n",
              "      filter: drop-shadow(0px 1px 2px rgba(0, 0, 0, 0.3));\n",
              "      fill: #FFFFFF;\n",
              "    }\n",
              "  </style>\n",
              "\n",
              "    <script>\n",
              "      const buttonEl =\n",
              "        document.querySelector('#df-ad51bd83-1c74-4eea-8f49-ad04cca9ae81 button.colab-df-convert');\n",
              "      buttonEl.style.display =\n",
              "        google.colab.kernel.accessAllowed ? 'block' : 'none';\n",
              "\n",
              "      async function convertToInteractive(key) {\n",
              "        const element = document.querySelector('#df-ad51bd83-1c74-4eea-8f49-ad04cca9ae81');\n",
              "        const dataTable =\n",
              "          await google.colab.kernel.invokeFunction('convertToInteractive',\n",
              "                                                    [key], {});\n",
              "        if (!dataTable) return;\n",
              "\n",
              "        const docLinkHtml = 'Like what you see? Visit the ' +\n",
              "          '<a target=\"_blank\" href=https://colab.research.google.com/notebooks/data_table.ipynb>data table notebook</a>'\n",
              "          + ' to learn more about interactive tables.';\n",
              "        element.innerHTML = '';\n",
              "        dataTable['output_type'] = 'display_data';\n",
              "        await google.colab.output.renderOutput(dataTable, element);\n",
              "        const docLink = document.createElement('div');\n",
              "        docLink.innerHTML = docLinkHtml;\n",
              "        element.appendChild(docLink);\n",
              "      }\n",
              "    </script>\n",
              "  </div>\n",
              "\n",
              "\n",
              "<div id=\"df-0b049c81-d1aa-4aae-872e-8d92599a70d3\">\n",
              "  <button class=\"colab-df-quickchart\" onclick=\"quickchart('df-0b049c81-d1aa-4aae-872e-8d92599a70d3')\"\n",
              "            title=\"Suggest charts.\"\n",
              "            style=\"display:none;\">\n",
              "\n",
              "<svg xmlns=\"http://www.w3.org/2000/svg\" height=\"24px\"viewBox=\"0 0 24 24\"\n",
              "     width=\"24px\">\n",
              "    <g>\n",
              "        <path d=\"M19 3H5c-1.1 0-2 .9-2 2v14c0 1.1.9 2 2 2h14c1.1 0 2-.9 2-2V5c0-1.1-.9-2-2-2zM9 17H7v-7h2v7zm4 0h-2V7h2v10zm4 0h-2v-4h2v4z\"/>\n",
              "    </g>\n",
              "</svg>\n",
              "  </button>\n",
              "\n",
              "<style>\n",
              "  .colab-df-quickchart {\n",
              "      --bg-color: #E8F0FE;\n",
              "      --fill-color: #1967D2;\n",
              "      --hover-bg-color: #E2EBFA;\n",
              "      --hover-fill-color: #174EA6;\n",
              "      --disabled-fill-color: #AAA;\n",
              "      --disabled-bg-color: #DDD;\n",
              "  }\n",
              "\n",
              "  [theme=dark] .colab-df-quickchart {\n",
              "      --bg-color: #3B4455;\n",
              "      --fill-color: #D2E3FC;\n",
              "      --hover-bg-color: #434B5C;\n",
              "      --hover-fill-color: #FFFFFF;\n",
              "      --disabled-bg-color: #3B4455;\n",
              "      --disabled-fill-color: #666;\n",
              "  }\n",
              "\n",
              "  .colab-df-quickchart {\n",
              "    background-color: var(--bg-color);\n",
              "    border: none;\n",
              "    border-radius: 50%;\n",
              "    cursor: pointer;\n",
              "    display: none;\n",
              "    fill: var(--fill-color);\n",
              "    height: 32px;\n",
              "    padding: 0;\n",
              "    width: 32px;\n",
              "  }\n",
              "\n",
              "  .colab-df-quickchart:hover {\n",
              "    background-color: var(--hover-bg-color);\n",
              "    box-shadow: 0 1px 2px rgba(60, 64, 67, 0.3), 0 1px 3px 1px rgba(60, 64, 67, 0.15);\n",
              "    fill: var(--button-hover-fill-color);\n",
              "  }\n",
              "\n",
              "  .colab-df-quickchart-complete:disabled,\n",
              "  .colab-df-quickchart-complete:disabled:hover {\n",
              "    background-color: var(--disabled-bg-color);\n",
              "    fill: var(--disabled-fill-color);\n",
              "    box-shadow: none;\n",
              "  }\n",
              "\n",
              "  .colab-df-spinner {\n",
              "    border: 2px solid var(--fill-color);\n",
              "    border-color: transparent;\n",
              "    border-bottom-color: var(--fill-color);\n",
              "    animation:\n",
              "      spin 1s steps(1) infinite;\n",
              "  }\n",
              "\n",
              "  @keyframes spin {\n",
              "    0% {\n",
              "      border-color: transparent;\n",
              "      border-bottom-color: var(--fill-color);\n",
              "      border-left-color: var(--fill-color);\n",
              "    }\n",
              "    20% {\n",
              "      border-color: transparent;\n",
              "      border-left-color: var(--fill-color);\n",
              "      border-top-color: var(--fill-color);\n",
              "    }\n",
              "    30% {\n",
              "      border-color: transparent;\n",
              "      border-left-color: var(--fill-color);\n",
              "      border-top-color: var(--fill-color);\n",
              "      border-right-color: var(--fill-color);\n",
              "    }\n",
              "    40% {\n",
              "      border-color: transparent;\n",
              "      border-right-color: var(--fill-color);\n",
              "      border-top-color: var(--fill-color);\n",
              "    }\n",
              "    60% {\n",
              "      border-color: transparent;\n",
              "      border-right-color: var(--fill-color);\n",
              "    }\n",
              "    80% {\n",
              "      border-color: transparent;\n",
              "      border-right-color: var(--fill-color);\n",
              "      border-bottom-color: var(--fill-color);\n",
              "    }\n",
              "    90% {\n",
              "      border-color: transparent;\n",
              "      border-bottom-color: var(--fill-color);\n",
              "    }\n",
              "  }\n",
              "</style>\n",
              "\n",
              "  <script>\n",
              "    async function quickchart(key) {\n",
              "      const quickchartButtonEl =\n",
              "        document.querySelector('#' + key + ' button');\n",
              "      quickchartButtonEl.disabled = true;  // To prevent multiple clicks.\n",
              "      quickchartButtonEl.classList.add('colab-df-spinner');\n",
              "      try {\n",
              "        const charts = await google.colab.kernel.invokeFunction(\n",
              "            'suggestCharts', [key], {});\n",
              "      } catch (error) {\n",
              "        console.error('Error during call to suggestCharts:', error);\n",
              "      }\n",
              "      quickchartButtonEl.classList.remove('colab-df-spinner');\n",
              "      quickchartButtonEl.classList.add('colab-df-quickchart-complete');\n",
              "    }\n",
              "    (() => {\n",
              "      let quickchartButtonEl =\n",
              "        document.querySelector('#df-0b049c81-d1aa-4aae-872e-8d92599a70d3 button');\n",
              "      quickchartButtonEl.style.display =\n",
              "        google.colab.kernel.accessAllowed ? 'block' : 'none';\n",
              "    })();\n",
              "  </script>\n",
              "</div>\n",
              "    </div>\n",
              "  </div>\n"
            ]
          },
          "metadata": {},
          "execution_count": 88
        }
      ]
    },
    {
      "cell_type": "code",
      "source": [
        "data.isnull().sum()"
      ],
      "metadata": {
        "colab": {
          "base_uri": "https://localhost:8080/"
        },
        "id": "2PgK_xlT7R5Q",
        "outputId": "4c7d262d-0487-4b5e-ef50-55f8539830a0"
      },
      "execution_count": null,
      "outputs": [
        {
          "output_type": "execute_result",
          "data": {
            "text/plain": [
              "RM         0\n",
              "LSTAT      0\n",
              "PTRATIO    0\n",
              "MEDV       0\n",
              "dtype: int64"
            ]
          },
          "metadata": {},
          "execution_count": 89
        }
      ]
    },
    {
      "cell_type": "code",
      "source": [
        "sns.heatmap(data.corr())"
      ],
      "metadata": {
        "colab": {
          "base_uri": "https://localhost:8080/",
          "height": 453
        },
        "id": "Cohb15Y5R4hy",
        "outputId": "b7adcb88-5c5a-4eda-aec2-31abee989ed3"
      },
      "execution_count": null,
      "outputs": [
        {
          "output_type": "execute_result",
          "data": {
            "text/plain": [
              "<Axes: >"
            ]
          },
          "metadata": {},
          "execution_count": 242
        },
        {
          "output_type": "display_data",
          "data": {
            "text/plain": [
              "<Figure size 640x480 with 2 Axes>"
            ],
            "image/png": "[encoded data removed]"
          },
          "metadata": {}
        }
      ]
    },
    {
      "cell_type": "code",
      "source": [
        "data['MEDV'].median()"
      ],
      "metadata": {
        "colab": {
          "base_uri": "https://localhost:8080/"
        },
        "id": "Yk8JUV_8SOH5",
        "outputId": "393feaa5-b543-41ac-c030-b61339b1ab67"
      },
      "execution_count": null,
      "outputs": [
        {
          "output_type": "execute_result",
          "data": {
            "text/plain": [
              "438900.0"
            ]
          },
          "metadata": {},
          "execution_count": 243
        }
      ]
    },
    {
      "cell_type": "code",
      "source": [
        "X = data[['RM', 'LSTAT', 'PTRATIO']]\n",
        "y = data['MEDV']\n",
        "X_train, X_test, y_train, y_test = train_test_split(X,y, random_state=42, test_size=0.8)"
      ],
      "metadata": {
        "id": "ixxfeGw07dLR"
      },
      "execution_count": null,
      "outputs": []
    },
    {
      "cell_type": "code",
      "source": [
        "regressor = LinearRegression()\n",
        "regressor.fit(X_train, y_train)"
      ],
      "metadata": {
        "colab": {
          "base_uri": "https://localhost:8080/",
          "height": 74
        },
        "id": "9j-G8NMO83KE",
        "outputId": "38a47917-0bf9-4204-cb6b-1c334770e1b7"
      },
      "execution_count": null,
      "outputs": [
        {
          "output_type": "execute_result",
          "data": {
            "text/plain": [
              "LinearRegression()"
            ],
            "text/html": [
              "<style>#sk-container-id-51 {color: black;background-color: white;}#sk-container-id-51 pre{padding: 0;}#sk-container-id-51 div.sk-toggleable {background-color: white;}#sk-container-id-51 label.sk-toggleable__label {cursor: pointer;display: block;width: 100%;margin-bottom: 0;padding: 0.3em;box-sizing: border-box;text-align: center;}#sk-container-id-51 label.sk-toggleable__label-arrow:before {content: \"▸\";float: left;margin-right: 0.25em;color: #696969;}#sk-container-id-51 label.sk-toggleable__label-arrow:hover:before {color: black;}#sk-container-id-51 div.sk-estimator:hover label.sk-toggleable__label-arrow:before {color: black;}#sk-container-id-51 div.sk-toggleable__content {max-height: 0;max-width: 0;overflow: hidden;text-align: left;background-color: #f0f8ff;}#sk-container-id-51 div.sk-toggleable__content pre {margin: 0.2em;color: black;border-radius: 0.25em;background-color: #f0f8ff;}#sk-container-id-51 input.sk-toggleable__control:checked~div.sk-toggleable__content {max-height: 200px;max-width: 100%;overflow: auto;}#sk-container-id-51 input.sk-toggleable__control:checked~label.sk-toggleable__label-arrow:before {content: \"▾\";}#sk-container-id-51 div.sk-estimator input.sk-toggleable__control:checked~label.sk-toggleable__label {background-color: #d4ebff;}#sk-container-id-51 div.sk-label input.sk-toggleable__control:checked~label.sk-toggleable__label {background-color: #d4ebff;}#sk-container-id-51 input.sk-hidden--visually {border: 0;clip: rect(1px 1px 1px 1px);clip: rect(1px, 1px, 1px, 1px);height: 1px;margin: -1px;overflow: hidden;padding: 0;position: absolute;width: 1px;}#sk-container-id-51 div.sk-estimator {font-family: monospace;background-color: #f0f8ff;border: 1px dotted black;border-radius: 0.25em;box-sizing: border-box;margin-bottom: 0.5em;}#sk-container-id-51 div.sk-estimator:hover {background-color: #d4ebff;}#sk-container-id-51 div.sk-parallel-item::after {content: \"\";width: 100%;border-bottom: 1px solid gray;flex-grow: 1;}#sk-container-id-51 div.sk-label:hover label.sk-toggleable__label {background-color: #d4ebff;}#sk-container-id-51 div.sk-serial::before {content: \"\";position: absolute;border-left: 1px solid gray;box-sizing: border-box;top: 0;bottom: 0;left: 50%;z-index: 0;}#sk-container-id-51 div.sk-serial {display: flex;flex-direction: column;align-items: center;background-color: white;padding-right: 0.2em;padding-left: 0.2em;position: relative;}#sk-container-id-51 div.sk-item {position: relative;z-index: 1;}#sk-container-id-51 div.sk-parallel {display: flex;align-items: stretch;justify-content: center;background-color: white;position: relative;}#sk-container-id-51 div.sk-item::before, #sk-container-id-51 div.sk-parallel-item::before {content: \"\";position: absolute;border-left: 1px solid gray;box-sizing: border-box;top: 0;bottom: 0;left: 50%;z-index: -1;}#sk-container-id-51 div.sk-parallel-item {display: flex;flex-direction: column;z-index: 1;position: relative;background-color: white;}#sk-container-id-51 div.sk-parallel-item:first-child::after {align-self: flex-end;width: 50%;}#sk-container-id-51 div.sk-parallel-item:last-child::after {align-self: flex-start;width: 50%;}#sk-container-id-51 div.sk-parallel-item:only-child::after {width: 0;}#sk-container-id-51 div.sk-dashed-wrapped {border: 1px dashed gray;margin: 0 0.4em 0.5em 0.4em;box-sizing: border-box;padding-bottom: 0.4em;background-color: white;}#sk-container-id-51 div.sk-label label {font-family: monospace;font-weight: bold;display: inline-block;line-height: 1.2em;}#sk-container-id-51 div.sk-label-container {text-align: center;}#sk-container-id-51 div.sk-container {/* jupyter's `normalize.less` sets `[hidden] { display: none; }` but bootstrap.min.css set `[hidden] { display: none !important; }` so we also need the `!important` here to be able to override the default hidden behavior on the sphinx rendered scikit-learn.org. See: https://github.com/scikit-learn/scikit-learn/issues/21755 */display: inline-block !important;position: relative;}#sk-container-id-51 div.sk-text-repr-fallback {display: none;}</style><div id=\"sk-container-id-51\" class=\"sk-top-container\"><div class=\"sk-text-repr-fallback\"><pre>LinearRegression()</pre><b>In a Jupyter environment, please rerun this cell to show the HTML representation or trust the notebook. <br />On GitHub, the HTML representation is unable to render, please try loading this page with nbviewer.org.</b></div><div class=\"sk-container\" hidden><div class=\"sk-item\"><div class=\"sk-estimator sk-toggleable\"><input class=\"sk-toggleable__control sk-hidden--visually\" id=\"sk-estimator-id-51\" type=\"checkbox\" checked><label for=\"sk-estimator-id-51\" class=\"sk-toggleable__label sk-toggleable__label-arrow\">LinearRegression</label><div class=\"sk-toggleable__content\"><pre>LinearRegression()</pre></div></div></div></div></div>"
            ]
          },
          "metadata": {},
          "execution_count": 411
        }
      ]
    },
    {
      "cell_type": "code",
      "source": [
        "y_pred = regressor.predict(X_test)\n",
        "y_pred"
      ],
      "metadata": {
        "colab": {
          "base_uri": "https://localhost:8080/"
        },
        "id": "5Z9EoQjH9ArI",
        "outputId": "f774145d-561b-4735-99ed-7fae2eeaff51"
      },
      "execution_count": null,
      "outputs": [
        {
          "output_type": "execute_result",
          "data": {
            "text/plain": [
              "array([344307.44078497, 501742.98506883, 426170.67979164, 242472.921628  ,\n",
              "       352801.67067111, 387107.47423378, 266855.51052016, 712659.84882216,\n",
              "       352609.58901587, 584624.30493983, 468415.01452681, 367404.65575792,\n",
              "       272386.57357865, 273440.49965291, 411793.71741895, 514013.47930597,\n",
              "       393443.00957013, 372203.66080064, 386312.38545223, 430147.61288156,\n",
              "       457806.31587119, 461801.70659012, 384384.74071058, 647440.69750311,\n",
              "       465962.25897425, 465205.20141004, 509143.3102413 , 626623.16907574,\n",
              "       683270.9395865 , 189179.57555495, 508863.67331026, 257816.74186696,\n",
              "       520666.43826685, 490411.97735057, 301098.70373418, 488631.50791265,\n",
              "       629113.46730702, 500977.47223271, 670559.13434134, 639296.15985102,\n",
              "       422549.29419423, 393162.81054954, 313535.56149639, 458304.10092463,\n",
              "       378534.21478414, 576996.33626586, 330396.89180135, 389681.47567636,\n",
              "       408377.81373186, 385205.09396487, 289227.33971895, 572529.56692549,\n",
              "       562311.6916424 , 414493.68529112, 512456.71444279, 486134.07424188,\n",
              "       373039.79449881, 517508.87773434, 422745.37105719, 297205.57144649,\n",
              "       469750.12129906, 398495.72213018, 517218.59820444, 456753.84423148,\n",
              "       566467.23684268, 769399.77074583, 526524.66617236, 531452.43216082,\n",
              "        35151.9083243 , 342584.69529357, 299082.99247759, 403767.4912781 ,\n",
              "       416930.91429402, 449010.59648743, 353090.32792402, 446337.79377066,\n",
              "       456044.41019431, 418718.35034845, 505910.89552624, 415052.61045838,\n",
              "       499775.73734425, 575800.76039998, 360224.50528148, 282827.4866857 ,\n",
              "       471414.1384472 , 561023.48404588, 434369.6807158 , 492051.06192116,\n",
              "       391848.87183173, 398033.79906749, 460235.54194008, 411452.93132391,\n",
              "       363013.74893777, 476971.10474938, 397814.87757201, 558990.50039058,\n",
              "       463367.13406781, 307717.00684413, 407818.05529092, 299181.17357144,\n",
              "       438719.964356  , 415208.37514587, 518071.9763215 , 305497.40763537,\n",
              "       399809.44200388, 409357.24417904, 420923.41950471, 481601.56420056,\n",
              "       522755.35427845, 478559.86671775, 330534.84800053, 588798.81770753,\n",
              "       736523.67005898, 378434.33720203, 162241.46489052, 404219.11332881,\n",
              "       741141.47036839, 355334.50592508, 345503.97826682, 512420.67423987,\n",
              "       411769.86460001, 385456.85339979, 422287.88667771, 128682.24560643,\n",
              "       326119.93467841, 748519.23442326, 429539.07562417, 667966.89971335,\n",
              "       639336.51333645, 342258.1976876 , 362995.86623819, 395730.42705514,\n",
              "       483124.31824362, 508887.54718998, 682165.93037681, 484979.10345558,\n",
              "       549045.36814366, 370910.10409438, 300369.08842921, 573387.2387539 ,\n",
              "       435458.31530122, 496943.52817849, 538748.716362  , 473560.06114314,\n",
              "       433511.96133641, 424715.17469491, 349543.46740431, 206158.45206771,\n",
              "       618906.76200122, 466935.75682235, 473084.57426289, 376730.44935633,\n",
              "       401181.20306961, 290477.82823438, 446905.1485489 , 459159.73333953,\n",
              "       618686.18021821, 772832.86751113, 342761.06692649, 469369.11912987,\n",
              "       421873.22941588, 437335.34734569, 435802.63521592, 684862.02299369,\n",
              "       511928.9045567 , 412973.75538492, 495255.76517272, 482133.08232878,\n",
              "       498597.69748182, 258613.87664205, 345777.66251853, 160155.6078291 ,\n",
              "       670749.97859631, 389430.39253268, 377048.48017007, 513936.47433621,\n",
              "        89075.40727685, 532912.29332083, 450846.19166825, 481527.72874424,\n",
              "       412049.85299739, 168383.5766979 , 402482.93434202, 525721.71908963,\n",
              "       383521.84581464, 393309.7433093 , 403229.26472637, 430868.16934504,\n",
              "       413918.14065553, 866951.37862973, 757393.72930623, 484764.93853032,\n",
              "       570905.47379549, 570320.5145721 , 726572.67744436, 552037.81407169,\n",
              "       508711.35343021, 372457.1451939 , 645437.02618849, 462472.11076397,\n",
              "       412502.96321323, 551358.34019635, 534103.77474831, 400584.26099569,\n",
              "       421559.52176412, 349949.47538178, 600990.03176755, 464385.57446813,\n",
              "       185319.7488358 , 320227.15409359, 412759.3388655 , 769077.64632296,\n",
              "       344363.52386388, -14162.33971219, 343456.65133109, 619169.42320855,\n",
              "       553845.05901806, 429624.08254741, 547333.67037705, 615133.79748582,\n",
              "       355123.14324662, 508324.11753691, 181637.7287642 , 299396.91897346,\n",
              "       574487.78246886, 575017.76158154, 516917.92207033, 491769.28670377,\n",
              "       268447.67072553, 693528.72555759, 562315.03985826, 480579.40075717,\n",
              "       329894.32549729, 391255.18483276, 535873.47701596, 436925.27685058,\n",
              "       288734.24888381, 508160.695631  , 392555.8384777 , 572508.46584195,\n",
              "        71982.5787668 , 435511.13770567, 275117.52361948, 691080.92009744,\n",
              "       494562.34852391, 657449.09302907, 623830.73171588, 442389.05065213,\n",
              "       506917.82632344, 720252.81411979, 259084.42626977, 649211.15027326,\n",
              "       526084.68306641, 430248.29937715, 445830.82104318, 379896.6030623 ,\n",
              "       299458.11668779, 346717.57275396, 473729.03192202, 343465.60223074,\n",
              "       466903.86190825, 551354.78267683, 738635.69413779, 352503.22513498,\n",
              "       373310.19569573, 632720.67235721, 274419.64477536, 541958.8514945 ,\n",
              "       278635.64146744, 440133.2636472 , 354990.03149808, 397205.02855184,\n",
              "       277582.055019  , 428954.37885493, 402090.25240837, 572856.48494859,\n",
              "       672027.43942299, 344720.38773813, 635927.2094895 , 290005.27392309,\n",
              "       519932.64049179, 614428.01557989, 480819.10230101, 122220.62601919,\n",
              "       438765.83775403, 544698.24858633, 662590.42614278, 449057.59555418,\n",
              "       447318.23536468, 410366.23626098, 568420.93325056, 505018.3572237 ,\n",
              "       615148.33805931, 440879.69390375, 397899.31614586, 360240.49502903,\n",
              "       487528.29178279, 408824.18128453, 563220.29341348, 334896.36019907,\n",
              "       789397.61184042, 789992.57589105, 582438.20088085, 415744.44910057,\n",
              "       393275.18075053, 613194.10901251, 794901.31343097,  68715.10588405,\n",
              "       581806.29491192, 305652.42659059, 591169.06185913, 373242.08270556,\n",
              "       384743.24166277, 220623.56504608, 438953.61483792, 337607.17077232,\n",
              "        95313.2319576 , 480713.21264806, 325928.24662877, 583873.79406527,\n",
              "       507839.4344227 , 553537.00292061, 530551.17892257, 651344.15516298,\n",
              "       614812.96953453, 467650.92041478, 437133.53385715, 433023.81005389,\n",
              "       485186.63233997, 333120.08558084, 241877.59327114, 555531.09131472,\n",
              "       591857.45618414, 562704.52725906, 510231.84214536, 494466.93873663,\n",
              "       256565.03635171, 127212.38768882, 639374.47166207, 595598.00647665,\n",
              "       310061.02062706, 500099.91779137, 535766.54248559, 706947.19962313,\n",
              "       348060.96795503, 614971.57117993, 523317.27010546, 342334.83490045,\n",
              "       488415.13328011, 574728.41042729, 402599.81379904, 585082.75900493,\n",
              "       595218.98759125, 717167.80392229, 656818.66996478, 575488.33111942,\n",
              "       390178.4926172 , 399170.25645289, 249655.73546915, 613740.98386806,\n",
              "       439068.58850303, 363760.72418286, 425839.21071228, 347312.09926763,\n",
              "       237338.86234559, 579605.82864287, 413931.73047304, 692021.2645704 ,\n",
              "       550526.20204493, 399430.48876982, 288784.12061893, 507421.03320828,\n",
              "       376723.69336302, 400190.90409035, 559533.42198989, 320964.19593236,\n",
              "       404263.8319277 , 385649.7874096 , 589739.20019103, 505562.25672953,\n",
              "       411286.34812546, 408309.49341791, 638301.57572032, 385531.23384465,\n",
              "       355301.94376993, 244960.41810275, 566858.61144477, 590180.50312941,\n",
              "       388742.17180086, 212415.16286425, 590718.92748328, 379075.92745328])"
            ]
          },
          "metadata": {},
          "execution_count": 412
        }
      ]
    },
    {
      "cell_type": "code",
      "source": [
        "r2_score(y_test,y_pred)"
      ],
      "metadata": {
        "colab": {
          "base_uri": "https://localhost:8080/"
        },
        "id": "gRIyhQrd9K11",
        "outputId": "50f7cd5a-7bb2-43fe-cc52-b11bc531c0b1"
      },
      "execution_count": null,
      "outputs": [
        {
          "output_type": "execute_result",
          "data": {
            "text/plain": [
              "0.6968854799168615"
            ]
          },
          "metadata": {},
          "execution_count": 413
        }
      ]
    },
    {
      "cell_type": "code",
      "source": [
        "mse = mean_squared_error(y_test, y_pred)\n",
        "mse"
      ],
      "metadata": {
        "colab": {
          "base_uri": "https://localhost:8080/"
        },
        "id": "-2U2uZiVC01L",
        "outputId": "1bbe98c1-aec0-428b-e122-b10be703fabc"
      },
      "execution_count": null,
      "outputs": [
        {
          "output_type": "execute_result",
          "data": {
            "text/plain": [
              "8434320230.18158"
            ]
          },
          "metadata": {},
          "execution_count": 414
        }
      ]
    },
    {
      "cell_type": "code",
      "source": [
        "import math\n",
        "rmse = math.sqrt(mse)\n",
        "rmse"
      ],
      "metadata": {
        "colab": {
          "base_uri": "https://localhost:8080/"
        },
        "id": "A9-bG5uqElG4",
        "outputId": "963252f4-95ed-4f5d-f62b-49aa1425b3a8"
      },
      "execution_count": null,
      "outputs": [
        {
          "output_type": "execute_result",
          "data": {
            "text/plain": [
              "91838.55524877108"
            ]
          },
          "metadata": {},
          "execution_count": 415
        }
      ]
    },
    {
      "cell_type": "code",
      "source": [
        "sns.set_style('whitegrid')\n",
        "sns.lmplot(x='RM', y='MEDV', data=data)"
      ],
      "metadata": {
        "colab": {
          "base_uri": "https://localhost:8080/",
          "height": 524
        },
        "id": "0pe8DjUrPng0",
        "outputId": "a0ff64ca-d7a0-49b5-c06c-f1858142f70e"
      },
      "execution_count": null,
      "outputs": [
        {
          "output_type": "execute_result",
          "data": {
            "text/plain": [
              "<seaborn.axisgrid.FacetGrid at 0x7d4aabd75690>"
            ]
          },
          "metadata": {},
          "execution_count": 416
        },
        {
          "output_type": "display_data",
          "data": {
            "text/plain": [
              "<Figure size 500x500 with 1 Axes>"
            ],
            "image/png": "[encoded data removed]"
          },
          "metadata": {}
        }
      ]
    }
  ]
}